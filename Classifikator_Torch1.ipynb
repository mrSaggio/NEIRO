{
  "nbformat": 4,
  "nbformat_minor": 0,
  "metadata": {
    "colab": {
      "provenance": [],
      "gpuType": "T4",
      "authorship_tag": "ABX9TyNJAYMDHvjOzSS7Jop0rwE9",
      "include_colab_link": true
    },
    "kernelspec": {
      "name": "python3",
      "display_name": "Python 3"
    },
    "language_info": {
      "name": "python"
    },
    "accelerator": "GPU"
  },
  "cells": [
    {
      "cell_type": "markdown",
      "metadata": {
        "id": "view-in-github",
        "colab_type": "text"
      },
      "source": [
        "<a href=\"https://colab.research.google.com/github/mrSaggio/NEIRO/blob/main/Classifikator_Torch1.ipynb\" target=\"_parent\"><img src=\"https://colab.research.google.com/assets/colab-badge.svg\" alt=\"Open In Colab\"/></a>"
      ]
    },
    {
      "cell_type": "code",
      "execution_count": 1,
      "metadata": {
        "colab": {
          "base_uri": "https://localhost:8080/"
        },
        "id": "Y_xtvCi56TSg",
        "outputId": "d1d29fa6-7ecd-4091-e722-d08076d017db"
      },
      "outputs": [
        {
          "output_type": "stream",
          "name": "stdout",
          "text": [
            "Mounted at /content/drive\n"
          ]
        }
      ],
      "source": [
        "from google.colab import drive\n",
        "drive.mount('/content/drive')"
      ]
    },
    {
      "cell_type": "code",
      "source": [
        "import os\n",
        "print(os.listdir('/content/drive/MyDrive/all_truba_digits'))"
      ],
      "metadata": {
        "id": "UlKqag4m6ih7"
      },
      "execution_count": null,
      "outputs": []
    },
    {
      "cell_type": "code",
      "source": [
        "import warnings\n",
        "warnings.filterwarnings('always')\n",
        "warnings.filterwarnings('ignore')\n",
        "# data visualisation and manipulation\n",
        "import numpy as np\n",
        "import pandas as pd\n",
        "import matplotlib.pyplot as plt\n",
        "from matplotlib import style\n",
        "import seaborn as sns\n",
        "#configure\n",
        "# sets matplotlib to inline and displays graphs below the corressponding cell.\n",
        "%matplotlib inline\n",
        "style.use('fivethirtyeight')\n",
        "sns.set(style='whitegrid',color_codes=True)\n",
        "#model selection\n",
        "from sklearn.model_selection import train_test_split\n",
        "from sklearn.model_selection import KFold\n",
        "from sklearn.metrics import accuracy_score,precision_score,recall_score,confusion_matrix,roc_curve,roc_auc_score\n",
        "from sklearn.model_selection import GridSearchCV\n",
        "from sklearn.preprocessing import LabelEncoder\n",
        "#preprocess.\n",
        "from keras.preprocessing.image import ImageDataGenerator\n",
        "#dl libraraies\n",
        "from keras import backend as K\n",
        "from keras.models import Sequential\n",
        "from keras.layers import Dense\n",
        "from keras.optimizers import Adam,SGD,Adagrad,Adadelta,RMSprop\n",
        "from keras.utils import to_categorical\n",
        "# specifically for cnn\n",
        "from keras.layers import Dropout, Flatten,Activation\n",
        "from keras.layers import Conv2D, MaxPooling2D, BatchNormalization\n",
        "import tensorflow as tf\n",
        "import random as rn\n",
        "# specifically for manipulating zipped images and getting numpy arrays of pixel values of images.\n",
        "import cv2\n",
        "import numpy as np\n",
        "from tqdm import tqdm\n",
        "import os\n",
        "from random import shuffle\n",
        "from zipfile import ZipFile\n",
        "from PIL import Image"
      ],
      "metadata": {
        "id": "Y-e_IoPV6sgg"
      },
      "execution_count": null,
      "outputs": []
    },
    {
      "cell_type": "code",
      "source": [
        "X=[]\n",
        "Z=[]\n",
        "IMG_SIZE=150\n",
        "FLOWER_DAISY_DIR0='/content/drive/MyDrive/all_truba_digits/0'\n",
        "FLOWER_SUNFLOWER_DIR1='/content/drive/MyDrive/all_truba_digits/1'\n",
        "FLOWER_TULIP_DIR2='/content/drive/MyDrive/all_truba_digits/2'\n",
        "FLOWER_DANDI_DIR3='/content/drive/MyDrive/all_truba_digits/3'\n",
        "FLOWER_ROSE_DIR4='//content/drive/MyDrive/all_truba_digits/4'\n",
        "FLOWER_ROSE_DIR5='//content/drive/MyDrive/all_truba_digits/5'\n",
        "FLOWER_ROSE_DIR6='//content/drive/MyDrive/all_truba_digits/6'\n",
        "FLOWER_ROSE_DIR7='//content/drive/MyDrive/all_truba_digits/7'\n",
        "FLOWER_ROSE_DIR8='//content/drive/MyDrive/all_truba_digits/8'\n",
        "FLOWER_ROSE_DIR9='//content/drive/MyDrive/all_truba_digits/9'\n",
        "FLOWER_ROSE_DIRS='//content/drive/MyDrive/all_truba_digits/Symbol'\n"
      ],
      "metadata": {
        "id": "9DhxzMBl6wzU"
      },
      "execution_count": null,
      "outputs": []
    },
    {
      "cell_type": "code",
      "source": [
        "def assign_label(img,flower_type):\n",
        "    return flower_type\n",
        "\n"
      ],
      "metadata": {
        "id": "FvSWyaCR7g-a"
      },
      "execution_count": null,
      "outputs": []
    },
    {
      "cell_type": "code",
      "source": [
        "def make_train_data(flower_type,DIR):\n",
        "    for img in tqdm(os.listdir(DIR)):\n",
        "        label=assign_label(img,flower_type)\n",
        "        path = os.path.join(DIR,img)\n",
        "        img = cv2.imread(path,cv2.IMREAD_COLOR)\n",
        "        img = cv2.resize(img, (IMG_SIZE,IMG_SIZE))\n",
        "\n",
        "        X.append(np.array(img))\n",
        "        Z.append(str(label))\n",
        ""
      ],
      "metadata": {
        "id": "oqIr8ucJ_qHk"
      },
      "execution_count": null,
      "outputs": []
    },
    {
      "cell_type": "code",
      "source": [
        "make_train_data('0',FLOWER_DAISY_DIR0)\n",
        "make_train_data('1',FLOWER_DAISY_DIR1)\n",
        "make_train_data('2',FLOWER_DAISY_DIR2)\n",
        "make_train_data('3',FLOWER_DAISY_DIR3)\n",
        "make_train_data('4',FLOWER_DAISY_DIR4)\n",
        "make_train_data('5',FLOWER_DAISY_DIR5)\n",
        "make_train_data('6',FLOWER_DAISY_DIR6)\n",
        "make_train_data('7',FLOWER_DAISY_DIR7)\n",
        "make_train_data('8',FLOWER_DAISY_DIR8)\n",
        "make_train_data('9',FLOWER_DAISY_DIR9)\n",
        "make_train_data('Symbol',FLOWER_DAISY_DIRS)\n",
        "l=print(list.make_train_data)\n",
        "print(len(X))"
      ],
      "metadata": {
        "id": "apNiyke47tNn"
      },
      "execution_count": null,
      "outputs": []
    },
    {
      "cell_type": "code",
      "source": [
        "fig,ax=plt.subplots(11,4)\n",
        "fig.set_size_inches(15,15)\n",
        "for i in range(11):\n",
        "    for j in range (4):\n",
        "        l=rn.randint(0,len(Z))\n",
        "        ax[i,j].imshow(X[l])\n",
        "        ax[i,j].set_title('Алфавит='+Z[l])\n",
        "\n",
        "plt.tight_layout()\n",
        "\n"
      ],
      "metadata": {
        "id": "Z2C7nAXB9uy2"
      },
      "execution_count": null,
      "outputs": []
    },
    {
      "cell_type": "code",
      "source": [
        "le=LabelEncoder()\n",
        "Y=le.fit_transform(Z)\n",
        "Y=to_categorical(Y,5)\n",
        "X=np.array(X)\n",
        "X=X/255"
      ],
      "metadata": {
        "id": "EqxMd-4A-ypt"
      },
      "execution_count": null,
      "outputs": []
    },
    {
      "cell_type": "code",
      "source": [
        "x_train,x_test,y_train,y_test=train_test_split(X,Y,test_size=0.25,random_state=42)\n",
        "np.random.seed(42)\n",
        "rn.seed(42)\n",
        "tf.random.set_seed(42)"
      ],
      "metadata": {
        "id": "4Pkbu1ga-3ie"
      },
      "execution_count": null,
      "outputs": []
    },
    {
      "cell_type": "code",
      "source": [
        "model = Sequential()\n",
        "model.add(Conv2D(filters = 32, kernel_size = (5,5),padding = 'Same',activation ='relu', input_shape = (150,150,3)))\n",
        "model.add(MaxPooling2D(pool_size=(2,2)))\n",
        "model.add(Conv2D(filters = 64, kernel_size = (3,3),padding = 'Same',activation ='relu'))\n",
        "model.add(MaxPooling2D(pool_size=(2,2), strides=(2,2)))\n",
        "model.add(Conv2D(filters =96, kernel_size = (3,3),padding = 'Same',activation ='relu'))\n",
        "model.add(MaxPooling2D(pool_size=(2,2), strides=(2,2)))\n",
        "model.add(Conv2D(filters = 96, kernel_size = (3,3),padding = 'Same',activation ='relu'))\n",
        "model.add(MaxPooling2D(pool_size=(2,2), strides=(2,2)))\n",
        "model.add(Flatten())\n",
        "model.add(Dense(512))\n",
        "model.add(Activation('relu'))\n",
        "model.add(Dense(5, activation = \"softmax\"))"
      ],
      "metadata": {
        "id": "WIwN-SNM-6wR"
      },
      "execution_count": null,
      "outputs": []
    },
    {
      "cell_type": "code",
      "source": [
        "batch_size=128\n",
        "epochs=50\n",
        "\n",
        "from keras.callbacks import ReduceLROnPlateau\n",
        "red_lr= ReduceLROnPlateau(monitor='val_acc',patience=3,verbose=1,factor=0.1)"
      ],
      "metadata": {
        "id": "IX0JjpyF_Mtt"
      },
      "execution_count": null,
      "outputs": []
    },
    {
      "cell_type": "code",
      "source": [
        "datagen = ImageDataGenerator(\n",
        "        featurewise_center=False,  # set input mean to 0 over the dataset\n",
        "        samplewise_center=False,  # set each sample mean to 0\n",
        "        featurewise_std_normalization=False,  # divide inputs by std of the dataset\n",
        "        samplewise_std_normalization=False,  # divide each input by its std\n",
        "        zca_whitening=False,  # apply ZCA whitening\n",
        "        rotation_range=10,  # randomly rotate images in the range (degrees, 0 to 180)\n",
        "        zoom_range = 0.1, # Randomly zoom image\n",
        "        width_shift_range=0.2,  # randomly shift images horizontally (fraction of total width)\n",
        "        height_shift_range=0.2,  # randomly shift images vertically (fraction of total height)\n",
        "        horizontal_flip=True,  # randomly flip images\n",
        "        vertical_flip=False)  # randomly flip images\n",
        "\n",
        "\n",
        "datagen.fit(x_train)"
      ],
      "metadata": {
        "id": "pb-hlRqsAcWv"
      },
      "execution_count": null,
      "outputs": []
    },
    {
      "cell_type": "code",
      "source": [
        "model.compile(optimizer=Adam(lr=0.001),loss='categorical_crossentropy',metrics=['accuracy'])"
      ],
      "metadata": {
        "id": "qgXnYrgRAgCR"
      },
      "execution_count": null,
      "outputs": []
    },
    {
      "cell_type": "code",
      "source": [
        "model.summary()"
      ],
      "metadata": {
        "id": "ozNMBy8cAjC3"
      },
      "execution_count": null,
      "outputs": []
    },
    {
      "cell_type": "code",
      "source": [
        "#History = model.fit_generator(x_train,y_train,\n",
        "                               #validation_data = (x_test,y_test),\n",
        "                              #verbose = 1)\n",
        "History = model.fit(x_train,y_train,validation_data = (x_test,y_test),epochs = 5)"
      ],
      "metadata": {
        "id": "BLC6sUaYAn_n"
      },
      "execution_count": null,
      "outputs": []
    },
    {
      "cell_type": "code",
      "source": [
        "History.history"
      ],
      "metadata": {
        "id": "Fqgto5VzAsY_"
      },
      "execution_count": null,
      "outputs": []
    },
    {
      "cell_type": "code",
      "source": [
        "plt.plot(History.history['loss'])\n",
        "plt.plot(History.history['val_loss'])\n",
        "plt.title('Model Loss')\n",
        "plt.ylabel('Loss')\n",
        "plt.xlabel('Epochs')\n",
        "plt.legend(['train', 'test'])\n",
        "plt.show()"
      ],
      "metadata": {
        "id": "NTe1IdFs_ObB"
      },
      "execution_count": null,
      "outputs": []
    },
    {
      "cell_type": "code",
      "source": [
        "plt.plot(History.history['accuracy'])\n",
        "plt.plot(History.history['val_accuracy'])\n",
        "plt.title('Model Accuracy')\n",
        "plt.ylabel('Accuracy')\n",
        "plt.xlabel('Epochs')\n",
        "plt.legend(['train', 'test'])\n",
        "plt.show()"
      ],
      "metadata": {
        "id": "_l1g6llF_VeV"
      },
      "execution_count": null,
      "outputs": []
    },
    {
      "cell_type": "code",
      "source": [
        "# getting predictions on val set.\n",
        "pred=model.predict(x_test)\n",
        "pred_digits=np.argmax(pred,axis=1)"
      ],
      "metadata": {
        "id": "HUsv4AnvAxyP"
      },
      "execution_count": null,
      "outputs": []
    },
    {
      "cell_type": "code",
      "source": [
        "# now storing some properly as well as misclassified indexes'.\n",
        "i=0\n",
        "prop_class=[]\n",
        "mis_class=[]\n",
        "\n",
        "for i in range(len(y_test)):\n",
        "    if(np.argmax(y_test[i])==pred_digits[i]):\n",
        "        prop_class.append(i)\n",
        "    if(len(prop_class)==8):\n",
        "        break\n",
        "\n",
        "i=0\n",
        "for i in range(len(y_test)):\n",
        "    if(not np.argmax(y_test[i])==pred_digits[i]):\n",
        "        mis_class.append(i)\n",
        "    if(len(mis_class)==8):\n",
        "        break"
      ],
      "metadata": {
        "id": "vtT9VQpDAyj7"
      },
      "execution_count": null,
      "outputs": []
    },
    {
      "cell_type": "code",
      "source": [
        "prop_class"
      ],
      "metadata": {
        "id": "PNB4H7LPA1n_"
      },
      "execution_count": null,
      "outputs": []
    },
    {
      "cell_type": "code",
      "source": [
        "mis_class"
      ],
      "metadata": {
        "id": "HAGYxHb5A4qD"
      },
      "execution_count": null,
      "outputs": []
    },
    {
      "cell_type": "code",
      "source": [
        "plt.imshow(x_test[1])"
      ],
      "metadata": {
        "id": "XsxH4RlSA7PE"
      },
      "execution_count": null,
      "outputs": []
    },
    {
      "cell_type": "code",
      "source": [
        "np.argmax(y_test[1],axis = 0)"
      ],
      "metadata": {
        "id": "lklYHaYqA95O"
      },
      "execution_count": null,
      "outputs": []
    },
    {
      "cell_type": "code",
      "source": [
        "pred_digits[1]"
      ],
      "metadata": {
        "id": "nmm77CAfBAlf"
      },
      "execution_count": null,
      "outputs": []
    },
    {
      "cell_type": "code",
      "source": [
        "warnings.filterwarnings('always')\n",
        "warnings.filterwarnings('ignore')\n",
        "\n",
        "count=0\n",
        "fig,ax=plt.subplots(4,2)\n",
        "fig.set_size_inches(15,15)\n",
        "for i in range (4):\n",
        "    for j in range (2):\n",
        "        ax[i,j].imshow(x_test[prop_class[count]])\n",
        "        ax[i,j].set_title(\"Predicted Flower : \"+str([pred_digits[prop_class[count]]])+\"\\n\"+\"Actual Flower : \"+str(np.argmax(y_test[prop_class[count]])))\n",
        "        plt.tight_layout()\n",
        "        count+=1"
      ],
      "metadata": {
        "id": "o6dkVbKFBDdC"
      },
      "execution_count": null,
      "outputs": []
    },
    {
      "cell_type": "code",
      "source": [
        "warnings.filterwarnings('always')\n",
        "warnings.filterwarnings('ignore')\n",
        "\n",
        "count=0\n",
        "fig,ax=plt.subplots(4,2)\n",
        "fig.set_size_inches(15,15)\n",
        "for i in range (4):\n",
        "    for j in range (2):\n",
        "        ax[i,j].imshow(x_test[mis_class[count]])\n",
        "\n",
        "        ax[i,j].set_title(\"Predicted Flower : \"+str([pred_digits[mis_class[count]]])+\"\\n\"+\"Actual Flower : \"+str(np.argmax(y_test[mis_class[count]])))\n",
        "        plt.tight_layout()\n",
        "        count+=1"
      ],
      "metadata": {
        "id": "v0VJPh_uBIQh"
      },
      "execution_count": null,
      "outputs": []
    },
    {
      "cell_type": "code",
      "source": [],
      "metadata": {
        "id": "vmA_f7ubBLs2"
      },
      "execution_count": null,
      "outputs": []
    }
  ]
}