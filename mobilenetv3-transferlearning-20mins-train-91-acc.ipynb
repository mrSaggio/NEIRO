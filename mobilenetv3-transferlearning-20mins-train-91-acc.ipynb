{
 "cells": [
  {
   "cell_type": "markdown",
   "id": "9c7a0972",
   "metadata": {
    "id": "FFWO57zZRHkG",
    "papermill": {
     "duration": 0.026202,
     "end_time": "2021-08-17T05:58:45.003258",
     "exception": false,
     "start_time": "2021-08-17T05:58:44.977056",
     "status": "completed"
    },
    "tags": []
   },
   "source": [
    "# Introduction\n",
    "\n",
    "In this notebook, we use a CNN to classify pneumonia cases. The dataset in question is available at kaggle by [this link](https://www.kaggle.com/paultimothymooney/chest-xray-pneumonia). The problem has been solved by the use of ShuffleNet and MobileNet's previous versions before, but in this kernel we are using a small MobileNetV3 via transfer learning and then finetuning its last layers in addition to learn a new classification head. This makes this solution extremly lightweight. Stay Tuned!"
   ]
  },
  {
   "cell_type": "markdown",
   "id": "fc2ada7e",
   "metadata": {
    "id": "3_9GX6gLRFKC",
    "papermill": {
     "duration": 0.024405,
     "end_time": "2021-08-17T05:58:45.052814",
     "exception": false,
     "start_time": "2021-08-17T05:58:45.028409",
     "status": "completed"
    },
    "tags": []
   },
   "source": [
    "# Code"
   ]
  },
  {
   "cell_type": "code",
   "execution_count": 1,
   "id": "2a0561bf",
   "metadata": {
    "execution": {
     "iopub.execute_input": "2021-08-17T05:58:45.115839Z",
     "iopub.status.busy": "2021-08-17T05:58:45.115327Z",
     "iopub.status.idle": "2021-08-17T06:00:28.078746Z",
     "shell.execute_reply": "2021-08-17T06:00:28.078159Z",
     "shell.execute_reply.started": "2021-08-17T05:49:28.915025Z"
    },
    "papermill": {
     "duration": 103.00101,
     "end_time": "2021-08-17T06:00:28.078902",
     "exception": false,
     "start_time": "2021-08-17T05:58:45.077892",
     "status": "completed"
    },
    "tags": []
   },
   "outputs": [
    {
     "name": "stdout",
     "output_type": "stream",
     "text": [
      "\u001b[31mERROR: pip's dependency resolver does not currently take into account all the packages that are installed. This behaviour is the source of the following dependency conflicts.\r\n",
      "kornia 0.5.5 requires numpy<=1.19, but you have numpy 1.19.5 which is incompatible.\r\n",
      "fastai 2.2.7 requires torch<1.8,>=1.7.0, but you have torch 1.9.0 which is incompatible.\r\n",
      "allennlp 2.5.0 requires torch<1.9.0,>=1.6.0, but you have torch 1.9.0 which is incompatible.\u001b[0m\r\n",
      "\u001b[33mWARNING: Running pip as root will break packages and permissions. You should install packages reliably by using venv: https://pip.pypa.io/warnings/venv\u001b[0m\r\n",
      "\u001b[31mERROR: pip's dependency resolver does not currently take into account all the packages that are installed. This behaviour is the source of the following dependency conflicts.\r\n",
      "fastai 2.2.7 requires torch<1.8,>=1.7.0, but you have torch 1.9.0 which is incompatible.\r\n",
      "fastai 2.2.7 requires torchvision<0.9,>=0.8, but you have torchvision 0.10.0 which is incompatible.\r\n",
      "allennlp 2.5.0 requires torch<1.9.0,>=1.6.0, but you have torch 1.9.0 which is incompatible.\r\n",
      "allennlp 2.5.0 requires torchvision<0.10.0,>=0.8.1, but you have torchvision 0.10.0 which is incompatible.\u001b[0m\r\n",
      "\u001b[33mWARNING: Running pip as root will break packages and permissions. You should install packages reliably by using venv: https://pip.pypa.io/warnings/venv\u001b[0m\r\n",
      "\u001b[31mERROR: pip's dependency resolver does not currently take into account all the packages that are installed. This behaviour is the source of the following dependency conflicts.\r\n",
      "fancyimpute 0.5.5 requires tensorflow, which is not installed.\r\n",
      "pyldavis 3.3.1 requires numpy>=1.20.0, but you have numpy 1.19.5 which is incompatible.\r\n",
      "pdpbox 0.2.1 requires matplotlib==3.1.1, but you have matplotlib 3.4.2 which is incompatible.\r\n",
      "hypertools 0.7.0 requires scikit-learn!=0.22,<0.24,>=0.19.1, but you have scikit-learn 0.24.2 which is incompatible.\r\n",
      "fastai 2.2.7 requires torch<1.8,>=1.7.0, but you have torch 1.9.0 which is incompatible.\r\n",
      "fastai 2.2.7 requires torchvision<0.9,>=0.8, but you have torchvision 0.10.0 which is incompatible.\r\n",
      "allennlp 2.5.0 requires torch<1.9.0,>=1.6.0, but you have torch 1.9.0 which is incompatible.\r\n",
      "allennlp 2.5.0 requires torchvision<0.10.0,>=0.8.1, but you have torchvision 0.10.0 which is incompatible.\u001b[0m\r\n",
      "\u001b[33mWARNING: Running pip as root will break packages and permissions. You should install packages reliably by using venv: https://pip.pypa.io/warnings/venv\u001b[0m\r\n"
     ]
    }
   ],
   "source": [
    "!pip install torch==1.9.0 -q\n",
    "!pip install torchvision==0.10.0 -q\n",
    "!pip install --upgrade scikit-learn -q"
   ]
  },
  {
   "cell_type": "code",
   "execution_count": 2,
   "id": "2424c7e3",
   "metadata": {
    "execution": {
     "iopub.execute_input": "2021-08-17T06:00:28.142342Z",
     "iopub.status.busy": "2021-08-17T06:00:28.137934Z",
     "iopub.status.idle": "2021-08-17T06:00:28.819806Z",
     "shell.execute_reply": "2021-08-17T06:00:28.818679Z",
     "shell.execute_reply.started": "2021-08-17T05:51:10.927469Z"
    },
    "id": "RnKm58M_b5vF",
    "outputId": "4ffd31b4-73f2-4674-e15d-69f658f3b5dd",
    "papermill": {
     "duration": 0.713042,
     "end_time": "2021-08-17T06:00:28.819988",
     "exception": false,
     "start_time": "2021-08-17T06:00:28.106946",
     "status": "completed"
    },
    "tags": []
   },
   "outputs": [
    {
     "name": "stdout",
     "output_type": "stream",
     "text": [
      "Tue Aug 17 06:00:28 2021       \r\n",
      "+-----------------------------------------------------------------------------+\r\n",
      "| NVIDIA-SMI 450.119.04   Driver Version: 450.119.04   CUDA Version: 11.0     |\r\n",
      "|-------------------------------+----------------------+----------------------+\r\n",
      "| GPU  Name        Persistence-M| Bus-Id        Disp.A | Volatile Uncorr. ECC |\r\n",
      "| Fan  Temp  Perf  Pwr:Usage/Cap|         Memory-Usage | GPU-Util  Compute M. |\r\n",
      "|                               |                      |               MIG M. |\r\n",
      "|===============================+======================+======================|\r\n",
      "|   0  Tesla P100-PCIE...  Off  | 00000000:00:04.0 Off |                    0 |\r\n",
      "| N/A   37C    P0    28W / 250W |      0MiB / 16280MiB |      0%      Default |\r\n",
      "|                               |                      |                  N/A |\r\n",
      "+-------------------------------+----------------------+----------------------+\r\n",
      "                                                                               \r\n",
      "+-----------------------------------------------------------------------------+\r\n",
      "| Processes:                                                                  |\r\n",
      "|  GPU   GI   CI        PID   Type   Process name                  GPU Memory |\r\n",
      "|        ID   ID                                                   Usage      |\r\n",
      "|=============================================================================|\r\n",
      "|  No running processes found                                                 |\r\n",
      "+-----------------------------------------------------------------------------+\r\n"
     ]
    }
   ],
   "source": [
    "!nvidia-smi"
   ]
  },
  {
   "cell_type": "markdown",
   "id": "b6620213",
   "metadata": {
    "id": "1x2vG-SZQVRZ",
    "papermill": {
     "duration": 0.027703,
     "end_time": "2021-08-17T06:00:28.876948",
     "exception": false,
     "start_time": "2021-08-17T06:00:28.849245",
     "status": "completed"
    },
    "tags": []
   },
   "source": [
    "# Imports"
   ]
  },
  {
   "cell_type": "code",
   "execution_count": 3,
   "id": "eeedcc23",
   "metadata": {
    "execution": {
     "iopub.execute_input": "2021-08-17T06:00:28.940699Z",
     "iopub.status.busy": "2021-08-17T06:00:28.939908Z",
     "iopub.status.idle": "2021-08-17T06:00:30.828239Z",
     "shell.execute_reply": "2021-08-17T06:00:30.827746Z",
     "shell.execute_reply.started": "2021-08-17T05:51:11.674799Z"
    },
    "id": "cNLwxmlcjbos",
    "outputId": "d32f3f84-9b8a-4d36-a642-75beb42b8bbb",
    "papermill": {
     "duration": 1.923515,
     "end_time": "2021-08-17T06:00:30.828377",
     "exception": false,
     "start_time": "2021-08-17T06:00:28.904862",
     "status": "completed"
    },
    "tags": []
   },
   "outputs": [],
   "source": [
    "import os\n",
    "import time\n",
    "import json\n",
    "from pathlib import Path\n",
    "\n",
    "import h5py\n",
    "\n",
    "import numpy as np\n",
    "import pandas as pd\n",
    "from PIL import Image\n",
    "import cv2\n",
    "\n",
    "from tqdm.auto import tqdm, trange\n",
    "\n",
    "from sklearn.preprocessing import LabelEncoder, StandardScaler\n",
    "from sklearn.decomposition import PCA\n",
    "from sklearn.svm import SVC\n",
    "from sklearn.cluster import KMeans\n",
    "from sklearn.pipeline import Pipeline\n",
    "from sklearn.metrics import (f1_score, \n",
    "                             classification_report, \n",
    "                             plot_confusion_matrix,\n",
    "                             ConfusionMatrixDisplay)\n",
    "\n",
    "\n",
    "import torch\n",
    "from torch import nn\n",
    "from torch.utils.data import DataLoader, Dataset, ConcatDataset\n",
    "from torchvision import transforms as VisTransforms\n",
    "import torchvision\n",
    "\n",
    "\n",
    "\n",
    "\n",
    "import matplotlib.pyplot as plt\n",
    "\n",
    "import multiprocessing as mp\n",
    "\n",
    "\n",
    "plt.style.use('ggplot')"
   ]
  },
  {
   "cell_type": "markdown",
   "id": "b11ebc99",
   "metadata": {
    "id": "53hth5vjQnFN",
    "papermill": {
     "duration": 0.026473,
     "end_time": "2021-08-17T06:00:30.881220",
     "exception": false,
     "start_time": "2021-08-17T06:00:30.854747",
     "status": "completed"
    },
    "tags": []
   },
   "source": [
    "Apparently there is a problem with pytorch 1.9's implementation of torch hub which this helps to alieviate."
   ]
  },
  {
   "cell_type": "code",
   "execution_count": 4,
   "id": "38457913",
   "metadata": {
    "execution": {
     "iopub.execute_input": "2021-08-17T06:00:30.937573Z",
     "iopub.status.busy": "2021-08-17T06:00:30.936744Z",
     "iopub.status.idle": "2021-08-17T06:00:30.939464Z",
     "shell.execute_reply": "2021-08-17T06:00:30.939048Z",
     "shell.execute_reply.started": "2021-08-17T05:51:13.646614Z"
    },
    "id": "JiXX3HU_SC3r",
    "outputId": "6cbab041-fd98-47f9-d215-f32164310e29",
    "papermill": {
     "duration": 0.032329,
     "end_time": "2021-08-17T06:00:30.939579",
     "exception": false,
     "start_time": "2021-08-17T06:00:30.907250",
     "status": "completed"
    },
    "tags": []
   },
   "outputs": [],
   "source": [
    "torch.hub._validate_not_a_forked_repo=lambda a,b,c: True"
   ]
  },
  {
   "cell_type": "markdown",
   "id": "40be1a6f",
   "metadata": {
    "id": "okZ0P94uQwgh",
    "papermill": {
     "duration": 0.026094,
     "end_time": "2021-08-17T06:00:30.991800",
     "exception": false,
     "start_time": "2021-08-17T06:00:30.965706",
     "status": "completed"
    },
    "tags": []
   },
   "source": [
    "# Defining Constants"
   ]
  },
  {
   "cell_type": "code",
   "execution_count": 5,
   "id": "53a3f50e",
   "metadata": {
    "execution": {
     "iopub.execute_input": "2021-08-17T06:00:31.095963Z",
     "iopub.status.busy": "2021-08-17T06:00:31.094457Z",
     "iopub.status.idle": "2021-08-17T06:00:31.098891Z",
     "shell.execute_reply": "2021-08-17T06:00:31.099490Z",
     "shell.execute_reply.started": "2021-08-17T05:51:13.652699Z"
    },
    "id": "DizLlq5DMn-6",
    "outputId": "cb260eaa-f949-4ade-deda-95c767f11a36",
    "papermill": {
     "duration": 0.081533,
     "end_time": "2021-08-17T06:00:31.099633",
     "exception": false,
     "start_time": "2021-08-17T06:00:31.018100",
     "status": "completed"
    },
    "tags": []
   },
   "outputs": [],
   "source": [
    "device = torch.device(\"cuda\" if torch.cuda.is_available() else \"cpu\")\n",
    "\n",
    "DATASET_PATH = \"../input/chest-xray-pneumonia/chest_xray\"\n",
    "SAVE_LOCATION = \"output/\"\n",
    "Path(SAVE_LOCATION).mkdir(parents=True, exist_ok=True)\n",
    "IMAGE_SIZE = (256, 256)\n",
    "\n",
    "LR = 1e-2\n",
    "PRETRAINED_LR = 1e-6\n",
    "MOMENTUM = 0.9\n",
    "BETAS = (0.9, 0.999)\n",
    "ADAM_EPS = 1e-8\n",
    "WEIGHT_DECAY = 1e-1\n",
    "MAX_GRADIENT_NORM = 0.5\n",
    "\n",
    "LR_SCHEDULE_GAMMA = 0.9\n",
    "T_0_COSINE_ANNEALING = 10\n",
    "T_MULT_COSINE_ANNEALING = 2\n",
    "\n",
    "\n",
    "EARLY_STOPPING_PATIENCE = 20\n",
    "\n",
    "BATCH_SIZE = {\n",
    "    \"train\": 128,\n",
    "    \"test\": 256,\n",
    "}\n",
    "\n",
    "MAX_EPOCHS = 100"
   ]
  },
  {
   "cell_type": "markdown",
   "id": "9591e5d1",
   "metadata": {
    "id": "fJvy5inTQy3c",
    "papermill": {
     "duration": 0.025784,
     "end_time": "2021-08-17T06:00:31.151560",
     "exception": false,
     "start_time": "2021-08-17T06:00:31.125776",
     "status": "completed"
    },
    "tags": []
   },
   "source": [
    "# Pre-training plots\n",
    "\n",
    "### Plotting widths and heights of the images in the dataset\n",
    "\n",
    "\n",
    "This helps us choose a better size (I've chosen it before;).) The chosen input dimension is 256x256, because:\n",
    "\n",
    "1 - All image sizes are bigger than this.\n",
    "\n",
    "2 - Bigger image size means more detials, and we can afford to use bigger image sizes because we're effectively single channel network (although we map grayscale to RGB finally)."
   ]
  },
  {
   "cell_type": "code",
   "execution_count": 6,
   "id": "ab8bc15e",
   "metadata": {
    "execution": {
     "iopub.execute_input": "2021-08-17T06:00:31.210648Z",
     "iopub.status.busy": "2021-08-17T06:00:31.210165Z",
     "iopub.status.idle": "2021-08-17T06:01:12.111785Z",
     "shell.execute_reply": "2021-08-17T06:01:12.112250Z",
     "shell.execute_reply.started": "2021-08-17T05:51:13.668920Z"
    },
    "id": "xT8MFli2m2nX",
    "outputId": "3833facd-fde6-4eec-d5f3-b7b0ceacd219",
    "papermill": {
     "duration": 40.934828,
     "end_time": "2021-08-17T06:01:12.112401",
     "exception": false,
     "start_time": "2021-08-17T06:00:31.177573",
     "status": "completed"
    },
    "tags": []
   },
   "outputs": [
    {
     "data": {
      "image/png": "[encoded data removed]",
      "text/plain": [
       "<Figure size 576x720 with 3 Axes>"
      ]
     },
     "metadata": {},
     "output_type": "display_data"
    }
   ],
   "source": [
    "sizes = []\n",
    "labels = []\n",
    "\n",
    "for root, _, files in os.walk(os.path.join(DATASET_PATH, \"train\")):\n",
    "    for f in files:\n",
    "        if f.endswith(\".jpeg\"):\n",
    "            img = Image.open(os.path.join(root, f))\n",
    "            w, h = img.size\n",
    "            aspect = w / h\n",
    "            sizes.append((w, h, aspect))\n",
    "            labels.append(Path(root).stem)\n",
    "\n",
    "\n",
    "sizes = np.asarray(sizes)\n",
    "\n",
    "w = sizes[:, 0]\n",
    "h = sizes[:, 1]\n",
    "a = sizes[:, 2]\n",
    "\n",
    "fig, axes = plt.subplots(3, 1, figsize=(8,10))\n",
    "\n",
    "axes[0].hist(w, bins=100)\n",
    "axes[0].set_title(\"Width Distribution\")\n",
    "axes[1].hist(h, bins=100)\n",
    "axes[1].set_title(\"Height Distribution\")\n",
    "axes[2].hist(a, bins=20)\n",
    "axes[2].set_title(\"Aspect Distribution\")\n",
    "pass"
   ]
  },
  {
   "cell_type": "markdown",
   "id": "6b412ecf",
   "metadata": {
    "id": "S9pcoB17Sp3v",
    "papermill": {
     "duration": 0.026781,
     "end_time": "2021-08-17T06:01:12.166363",
     "exception": false,
     "start_time": "2021-08-17T06:01:12.139582",
     "status": "completed"
    },
    "tags": []
   },
   "source": [
    "### Plotting the distribution of classes and choosing adequate weightings."
   ]
  },
  {
   "cell_type": "code",
   "execution_count": 7,
   "id": "f322c02f",
   "metadata": {
    "execution": {
     "iopub.execute_input": "2021-08-17T06:01:12.225642Z",
     "iopub.status.busy": "2021-08-17T06:01:12.224915Z",
     "iopub.status.idle": "2021-08-17T06:01:12.346354Z",
     "shell.execute_reply": "2021-08-17T06:01:12.345936Z",
     "shell.execute_reply.started": "2021-08-17T05:51:47.760027Z"
    },
    "id": "u1yyutMoTt0g",
    "outputId": "885b292f-9ce2-4ac2-e4a4-79dcda08809b",
    "papermill": {
     "duration": 0.152986,
     "end_time": "2021-08-17T06:01:12.346464",
     "exception": false,
     "start_time": "2021-08-17T06:01:12.193478",
     "status": "completed"
    },
    "tags": []
   },
   "outputs": [
    {
     "data": {
      "image/png": "[encoded data removed]",
      "text/plain": [
       "<Figure size 432x288 with 1 Axes>"
      ]
     },
     "metadata": {},
     "output_type": "display_data"
    }
   ],
   "source": [
    "uniques, counts = np.unique(labels, return_counts=True)\n",
    "plt.bar(uniques, counts, color=[\"brown\", \"green\"])\n",
    "plt.title('Distribution of Labels in the Training Set')\n",
    "pass"
   ]
  },
  {
   "cell_type": "code",
   "execution_count": 8,
   "id": "0d0374a9",
   "metadata": {
    "execution": {
     "iopub.execute_input": "2021-08-17T06:01:12.407377Z",
     "iopub.status.busy": "2021-08-17T06:01:12.406759Z",
     "iopub.status.idle": "2021-08-17T06:01:12.412498Z",
     "shell.execute_reply": "2021-08-17T06:01:12.412877Z",
     "shell.execute_reply.started": "2021-08-17T05:51:47.911488Z"
    },
    "id": "QoSHBz8nUfg7",
    "outputId": "5bd8e0d6-afba-4573-8250-06ed5fe0111e",
    "papermill": {
     "duration": 0.03905,
     "end_time": "2021-08-17T06:01:12.412996",
     "exception": false,
     "start_time": "2021-08-17T06:01:12.373946",
     "status": "completed"
    },
    "tags": []
   },
   "outputs": [
    {
     "name": "stdout",
     "output_type": "stream",
     "text": [
      "{0: 1.9448173005219984, 1: 0.6730322580645162}\n"
     ]
    }
   ],
   "source": [
    "n = len(labels)\n",
    "n_classes = len(set(labels)) # == 2\n",
    "# balanced weight formula: n_total/(n_classes * n_samples_in_ith_class)\n",
    "classification_weights = {\n",
    "    idx: n/(v*n_classes) for idx, (k, v) in enumerate(zip(*np.unique(labels, return_counts=True)))\n",
    "}\n",
    "print(classification_weights)"
   ]
  },
  {
   "cell_type": "markdown",
   "id": "bce55db1",
   "metadata": {
    "id": "AL2IrEKaRCNF",
    "papermill": {
     "duration": 0.027921,
     "end_time": "2021-08-17T06:01:12.468882",
     "exception": false,
     "start_time": "2021-08-17T06:01:12.440961",
     "status": "completed"
    },
    "tags": []
   },
   "source": [
    "# Definitions\n",
    "\n",
    "## Defining Transforms\n",
    "\n",
    "\n",
    "These are some useful transforms that will help us get the data ready to be an input to the CNN."
   ]
  },
  {
   "cell_type": "code",
   "execution_count": 9,
   "id": "161b2305",
   "metadata": {
    "execution": {
     "iopub.execute_input": "2021-08-17T06:01:12.528473Z",
     "iopub.status.busy": "2021-08-17T06:01:12.527935Z",
     "iopub.status.idle": "2021-08-17T06:01:12.531490Z",
     "shell.execute_reply": "2021-08-17T06:01:12.531866Z",
     "shell.execute_reply.started": "2021-08-17T05:51:48.051699Z"
    },
    "id": "Xo9qx_QZL0NG",
    "outputId": "b981ebec-7f3f-4765-f34a-6dd08e4cf356",
    "papermill": {
     "duration": 0.035424,
     "end_time": "2021-08-17T06:01:12.531981",
     "exception": false,
     "start_time": "2021-08-17T06:01:12.496557",
     "status": "completed"
    },
    "tags": []
   },
   "outputs": [],
   "source": [
    "class LabelTransformer:\n",
    "    def __call__(self, label):\n",
    "        label = label.lower()\n",
    "        if label == \"normal\":\n",
    "            return 0\n",
    "        else:\n",
    "            return 1"
   ]
  },
  {
   "cell_type": "code",
   "execution_count": 10,
   "id": "cf8feee2",
   "metadata": {
    "execution": {
     "iopub.execute_input": "2021-08-17T06:01:12.594099Z",
     "iopub.status.busy": "2021-08-17T06:01:12.592840Z",
     "iopub.status.idle": "2021-08-17T06:01:12.595664Z",
     "shell.execute_reply": "2021-08-17T06:01:12.595203Z",
     "shell.execute_reply.started": "2021-08-17T05:51:48.060684Z"
    },
    "id": "jp6gbVJJ3Upb",
    "outputId": "e2bd731a-00f1-4b94-fc4d-f0dfdc485553",
    "papermill": {
     "duration": 0.03565,
     "end_time": "2021-08-17T06:01:12.595770",
     "exception": false,
     "start_time": "2021-08-17T06:01:12.560120",
     "status": "completed"
    },
    "tags": []
   },
   "outputs": [],
   "source": [
    "class ImageResizer:\n",
    "    def __init__(self, size, optional=False):\n",
    "        self.size = size\n",
    "        self.optional = optional\n",
    "    def __call__(self, input_img):\n",
    "        h, w = input_img.shape\n",
    "        target = cv2.resize(input_img, \n",
    "                            (self.size, self.size),  \n",
    "                            interpolation = cv2.INTER_CUBIC)\n",
    "        return target"
   ]
  },
  {
   "cell_type": "code",
   "execution_count": 11,
   "id": "5174b9b6",
   "metadata": {
    "execution": {
     "iopub.execute_input": "2021-08-17T06:01:12.656115Z",
     "iopub.status.busy": "2021-08-17T06:01:12.655512Z",
     "iopub.status.idle": "2021-08-17T06:01:12.659511Z",
     "shell.execute_reply": "2021-08-17T06:01:12.659090Z",
     "shell.execute_reply.started": "2021-08-17T05:51:48.073644Z"
    },
    "id": "Annz6ipKqT5E",
    "outputId": "5da26c05-5e12-4ae2-956c-38dd09e38d8b",
    "papermill": {
     "duration": 0.035883,
     "end_time": "2021-08-17T06:01:12.659613",
     "exception": false,
     "start_time": "2021-08-17T06:01:12.623730",
     "status": "completed"
    },
    "tags": []
   },
   "outputs": [],
   "source": [
    "class PreProcessor:\n",
    "    def __init__(self,\n",
    "                 pipeline):\n",
    "        self.preprcoessing_pipeline = pipeline\n",
    "\n",
    "    def __call__(self, input_img):\n",
    "        processed = self.preprcoessing_pipeline(input_img)\n",
    "        return processed        "
   ]
  },
  {
   "cell_type": "markdown",
   "id": "2d7fce48",
   "metadata": {
    "id": "bExpvdekXB2-",
    "papermill": {
     "duration": 0.028079,
     "end_time": "2021-08-17T06:01:12.716010",
     "exception": false,
     "start_time": "2021-08-17T06:01:12.687931",
     "status": "completed"
    },
    "tags": []
   },
   "source": [
    "## Defining the Dataset"
   ]
  },
  {
   "cell_type": "code",
   "execution_count": 12,
   "id": "54f5d264",
   "metadata": {
    "execution": {
     "iopub.execute_input": "2021-08-17T06:01:12.785119Z",
     "iopub.status.busy": "2021-08-17T06:01:12.784517Z",
     "iopub.status.idle": "2021-08-17T06:01:12.787235Z",
     "shell.execute_reply": "2021-08-17T06:01:12.787614Z",
     "shell.execute_reply.started": "2021-08-17T05:51:48.085696Z"
    },
    "id": "btK46my0-4rl",
    "outputId": "75c9af74-c650-4548-9510-2a9a1802191a",
    "papermill": {
     "duration": 0.043895,
     "end_time": "2021-08-17T06:01:12.787732",
     "exception": false,
     "start_time": "2021-08-17T06:01:12.743837",
     "status": "completed"
    },
    "tags": []
   },
   "outputs": [],
   "source": [
    "class PneumoniaDataset(Dataset):\n",
    "    def __init__(self, \n",
    "                 subset, \n",
    "                 preprocessor, \n",
    "                 image_transforms,\n",
    "                 label_transforms,\n",
    "                 root=DATASET_PATH,\n",
    "                 debug=False):\n",
    "        super().__init__()\n",
    "        assert subset in [\"train\", \"test\", \"val\"]\n",
    "        self.folder_path = os.path.join(root, subset)\n",
    "        self.dataset_name = subset\n",
    "\n",
    "        self.preprocessor = preprocessor\n",
    "        self.image_transforms = image_transforms\n",
    "        self.label_transforms = label_transforms\n",
    "\n",
    "        self._preprocess(debug)\n",
    "    \n",
    "    def _preprocess(self, debug):\n",
    "        '''\n",
    "            This function saves the processed data into a list\n",
    "\n",
    "            debug: flag to create a debug set using a limited number of samples\n",
    "        '''\n",
    "        images_path = []\n",
    "        labels = []\n",
    "        for root, __, files in os.walk(self.folder_path):\n",
    "            for f in files:\n",
    "                if f.endswith(\".jpeg\"):\n",
    "                    fpath = os.path.join(root, f)\n",
    "                    l = Path(root).stem\n",
    "                    images_path.append(fpath)\n",
    "                    labels.append(self.label_transforms(l))\n",
    "                \n",
    "        \n",
    "        if debug:\n",
    "            images_path = images_path[:50]\n",
    "            labels = labels[:50]\n",
    "\n",
    "        if os.path.exists(self.dataset_name):\n",
    "            os.remove(self.dataset_name)\n",
    "        \n",
    "        self.data = []\n",
    "\n",
    "        for idx, fpath in enumerate(tqdm(images_path, \n",
    "                                         desc=f\"creating {self.dataset_name} set\")):\n",
    "            # reading images as grayscales\n",
    "            img = cv2.imread(fpath, 0)\n",
    "            img = self.preprocessor(img)\n",
    "            \n",
    "            self.data.append(\n",
    "                {\n",
    "                    \"image\": img,\n",
    "                    \"label\": labels[idx]\n",
    "                }\n",
    "            )\n",
    "        \n",
    "        self._len = len(self.data)\n",
    "\n",
    "    \n",
    "    def __len__(self):\n",
    "        return self._len\n",
    "\n",
    "    def __getitem__(self, idx):\n",
    "        img = self.data[idx][\"image\"]\n",
    "        l = self.data[idx][\"label\"]\n",
    "        \n",
    "        img = self.image_transforms(img)\n",
    "        l = torch.LongTensor([l])\n",
    "\n",
    "        return {\n",
    "            \"image\": img,\n",
    "            \"label\": l\n",
    "        }"
   ]
  },
  {
   "cell_type": "markdown",
   "id": "9126dc89",
   "metadata": {
    "id": "2uKWVfntXFSJ",
    "papermill": {
     "duration": 0.032104,
     "end_time": "2021-08-17T06:01:12.849096",
     "exception": false,
     "start_time": "2021-08-17T06:01:12.816992",
     "status": "completed"
    },
    "tags": []
   },
   "source": [
    "## Defining the Initializer"
   ]
  },
  {
   "cell_type": "markdown",
   "id": "eb0d828e",
   "metadata": {
    "papermill": {
     "duration": 0.027595,
     "end_time": "2021-08-17T06:01:12.905468",
     "exception": false,
     "start_time": "2021-08-17T06:01:12.877873",
     "status": "completed"
    },
    "tags": []
   },
   "source": [
    "We used multiple augmentations in order to further augment the dataset and avoid overfitting. ColorJitter changes the brightness and contrast, using affine transformations we change the rotation, shear, and translation of pixel values and finally using horizontal flip we make sure the model is able to find the pneumonia regions in either sides of the chest."
   ]
  },
  {
   "cell_type": "code",
   "execution_count": 13,
   "id": "fc5a5b5a",
   "metadata": {
    "execution": {
     "iopub.execute_input": "2021-08-17T06:01:12.975426Z",
     "iopub.status.busy": "2021-08-17T06:01:12.974614Z",
     "iopub.status.idle": "2021-08-17T06:01:12.977733Z",
     "shell.execute_reply": "2021-08-17T06:01:12.977188Z",
     "shell.execute_reply.started": "2021-08-17T05:51:48.100269Z"
    },
    "id": "qcipVLuJRsF1",
    "outputId": "ef52dc5d-db58-4d3c-cc49-d660dceb9f9d",
    "papermill": {
     "duration": 0.044634,
     "end_time": "2021-08-17T06:01:12.977843",
     "exception": false,
     "start_time": "2021-08-17T06:01:12.933209",
     "status": "completed"
    },
    "tags": []
   },
   "outputs": [],
   "source": [
    "# We need to make sure the data is batched correctly\n",
    "class BatchCollater:\n",
    "    def __call__(self, data):\n",
    "        batch = {k: [] for k in data[-1]}\n",
    "        for d in data:\n",
    "            for k in d:\n",
    "                batch[k].append(d[k])\n",
    "        for k in batch:\n",
    "            batch[k] = torch.stack(batch[k], dim=0)\n",
    "        batch[\"label\"] = batch[\"label\"].squeeze()\n",
    "        return batch\n",
    "\n",
    "class Initializer:\n",
    "    def __init__(self):\n",
    "        '''\n",
    "            This class helps us initiate all the required data stuff with ease.\n",
    "        '''\n",
    "        pass\n",
    "\n",
    "    \n",
    "    def initialize(self, debug=False):\n",
    "        preprocessor = PreProcessor(\n",
    "            pipeline=VisTransforms.Compose([ImageResizer(IMAGE_SIZE[0]),])\n",
    "            )\n",
    "        image_transforms = VisTransforms.Compose([VisTransforms.ToTensor(),\n",
    "                                                  # GrayScale mapping\n",
    "                                                  VisTransforms.Lambda(\n",
    "                                                      lambda x: torch.cat([x, x, x]).clone()\n",
    "                                                      ),\n",
    "                                                  VisTransforms.RandomChoice(\n",
    "                                                      [VisTransforms.ColorJitter(\n",
    "                                                          brightness=0.3,\n",
    "                                                          contrast=0.3,\n",
    "                                                          ),\n",
    "                                                       VisTransforms.RandomAffine(\n",
    "                                                           degrees=20, \n",
    "                                                           shear=3,\n",
    "                                                           translate=(0.2, 0.2)\n",
    "                                                           ),\n",
    "                                                       VisTransforms.RandomHorizontalFlip(\n",
    "                                                           p=1),\n",
    "                                                       ],),\n",
    "                                                  VisTransforms.Normalize(\n",
    "                                                      mean=[0.485, 0.456, 0.406],\n",
    "                                                      std=[0.229, 0.224, 0.225]\n",
    "                                                      )])\n",
    "        label_transforms = LabelTransformer()\n",
    "\n",
    "        train_dataset = PneumoniaDataset(\"train\", \n",
    "                                         preprocessor, \n",
    "                                         image_transforms, \n",
    "                                         label_transforms, \n",
    "                                         debug=debug)\n",
    "\n",
    "        val_dataset = PneumoniaDataset(\"val\", \n",
    "                                       preprocessor, \n",
    "                                       image_transforms, \n",
    "                                       label_transforms, \n",
    "                                       debug=debug)\n",
    "\n",
    "        test_dataset = PneumoniaDataset(\"test\", \n",
    "                                        preprocessor, \n",
    "                                        image_transforms, \n",
    "                                        label_transforms, \n",
    "                                        debug=debug)\n",
    "\n",
    "        train_loader = DataLoader(\n",
    "            dataset=train_dataset, \n",
    "            batch_size=BATCH_SIZE[\"train\"], \n",
    "            shuffle=True, \n",
    "            num_workers=2,\n",
    "            collate_fn=BatchCollater(),\n",
    "            prefetch_factor=2,\n",
    "        )\n",
    "\n",
    "        test_loader_params = val_loader_params = dict(batch_size=BATCH_SIZE[\"test\"],\n",
    "                                                      collate_fn=BatchCollater(), \n",
    "                                                      shuffle=False,)\n",
    "        \n",
    "\n",
    "        val_loader = DataLoader(dataset=val_dataset, **val_loader_params)\n",
    "        test_loader = DataLoader(dataset=test_dataset, **test_loader_params)\n",
    "\n",
    "        return dict(\n",
    "            train_dataset=train_dataset,\n",
    "            train_loader=train_loader,\n",
    "            val_dataset=val_dataset,\n",
    "            val_loader=val_loader,\n",
    "            test_dataset=test_dataset,\n",
    "            test_loader=test_loader,\n",
    "        )"
   ]
  },
  {
   "cell_type": "code",
   "execution_count": 14,
   "id": "a4ca1d2e",
   "metadata": {
    "execution": {
     "iopub.execute_input": "2021-08-17T06:01:13.049329Z",
     "iopub.status.busy": "2021-08-17T06:01:13.048574Z",
     "iopub.status.idle": "2021-08-17T06:01:13.051223Z",
     "shell.execute_reply": "2021-08-17T06:01:13.050794Z",
     "shell.execute_reply.started": "2021-08-17T05:51:48.118329Z"
    },
    "id": "RkYDZr2zdjzF",
    "outputId": "4926bdc2-9a63-4a52-df82-d0596d428843",
    "papermill": {
     "duration": 0.045775,
     "end_time": "2021-08-17T06:01:13.051333",
     "exception": false,
     "start_time": "2021-08-17T06:01:13.005558",
     "status": "completed"
    },
    "tags": []
   },
   "outputs": [],
   "source": [
    "# From https://gist.github.com/jeasinema/ed9236ce743c8efaf30fa2ff732749f5\n",
    "\n",
    "import torch.nn.init as init\n",
    "\n",
    "\n",
    "def weight_init(m):\n",
    "    '''\n",
    "    Initializes the weights of a module.\n",
    "    \n",
    "    Usage:\n",
    "        model = Model()\n",
    "        model.apply(weight_init)\n",
    "    '''\n",
    "    if isinstance(m, nn.Conv1d):\n",
    "        init.normal_(m.weight.data)\n",
    "        if m.bias is not None:\n",
    "            init.normal_(m.bias.data)\n",
    "    elif isinstance(m, nn.Conv2d):\n",
    "        init.xavier_normal_(m.weight.data)\n",
    "        if m.bias is not None:\n",
    "            init.normal_(m.bias.data)\n",
    "    elif isinstance(m, nn.Conv3d):\n",
    "        init.xavier_normal_(m.weight.data)\n",
    "        if m.bias is not None:\n",
    "            init.normal_(m.bias.data)\n",
    "    elif isinstance(m, nn.ConvTranspose1d):\n",
    "        init.normal_(m.weight.data)\n",
    "        if m.bias is not None:\n",
    "            init.normal_(m.bias.data)\n",
    "    elif isinstance(m, nn.ConvTranspose2d):\n",
    "        init.xavier_normal_(m.weight.data)\n",
    "        if m.bias is not None:\n",
    "            init.normal_(m.bias.data)\n",
    "    elif isinstance(m, nn.ConvTranspose3d):\n",
    "        init.xavier_normal_(m.weight.data)\n",
    "        if m.bias is not None:\n",
    "            init.normal_(m.bias.data)\n",
    "    elif isinstance(m, nn.BatchNorm1d):\n",
    "        init.normal_(m.weight.data, mean=1, std=0.02)\n",
    "        init.constant_(m.bias.data, 0)\n",
    "    elif isinstance(m, nn.BatchNorm2d):\n",
    "        init.normal_(m.weight.data, mean=1, std=0.02)\n",
    "        init.constant_(m.bias.data, 0)\n",
    "    elif isinstance(m, nn.BatchNorm3d):\n",
    "        init.normal_(m.weight.data, mean=1, std=0.02)\n",
    "        init.constant_(m.bias.data, 0)\n",
    "    elif isinstance(m, nn.Linear):\n",
    "        init.xavier_normal_(m.weight.data)\n",
    "        init.normal_(m.bias.data)\n",
    "    elif isinstance(m, nn.LSTM):\n",
    "        for param in m.parameters():\n",
    "            if len(param.shape) >= 2:\n",
    "                init.orthogonal_(param.data)\n",
    "            else:\n",
    "                init.normal_(param.data)\n",
    "    elif isinstance(m, nn.LSTMCell):\n",
    "        for param in m.parameters():\n",
    "            if len(param.shape) >= 2:\n",
    "                init.orthogonal_(param.data)\n",
    "            else:\n",
    "                init.normal_(param.data)\n",
    "    elif isinstance(m, nn.GRU):\n",
    "        for param in m.parameters():\n",
    "            if len(param.shape) >= 2:\n",
    "                init.orthogonal_(param.data)\n",
    "            else:\n",
    "                init.normal_(param.data)\n",
    "    elif isinstance(m, nn.GRUCell):\n",
    "        for param in m.parameters():\n",
    "            if len(param.shape) >= 2:\n",
    "                init.orthogonal_(param.data)\n",
    "            else:\n",
    "                init.normal_(param.data)"
   ]
  },
  {
   "cell_type": "markdown",
   "id": "85ea3e07",
   "metadata": {
    "id": "LVQbSLr5WT4-",
    "papermill": {
     "duration": 0.027967,
     "end_time": "2021-08-17T06:01:13.106816",
     "exception": false,
     "start_time": "2021-08-17T06:01:13.078849",
     "status": "completed"
    },
    "tags": []
   },
   "source": [
    "## Defining the PneumoniaNet\n",
    "\n",
    "This CNN uses a small MobileNetV3 architecture, and freezes all but its the last two modules which are then are finetuned via a smaller learning rate than the classification head. The last two modules are An inverted residual module + a 1x1 convolution module. This makes the model extremly lightweight to use and extremly resistant to overfitting because of the lack of parameters."
   ]
  },
  {
   "cell_type": "code",
   "execution_count": 15,
   "id": "15cb57f9",
   "metadata": {
    "execution": {
     "iopub.execute_input": "2021-08-17T06:01:13.173480Z",
     "iopub.status.busy": "2021-08-17T06:01:13.172803Z",
     "iopub.status.idle": "2021-08-17T06:01:13.175191Z",
     "shell.execute_reply": "2021-08-17T06:01:13.175591Z",
     "shell.execute_reply.started": "2021-08-17T05:51:48.138008Z"
    },
    "id": "LI75MELzUze7",
    "outputId": "37248aef-b059-4723-8f8e-55b2facbd99d",
    "papermill": {
     "duration": 0.04109,
     "end_time": "2021-08-17T06:01:13.175713",
     "exception": false,
     "start_time": "2021-08-17T06:01:13.134623",
     "status": "completed"
    },
    "tags": []
   },
   "outputs": [],
   "source": [
    "def load_pretrained():\n",
    "    pretrained_model = torchvision.models.mobilenetv3.mobilenet_v3_small(pretrained=True,\n",
    "                                                                         progress=True)\n",
    "    return pretrained_model.features\n",
    "\n",
    "\n",
    "class PneumoniaNet(nn.Module):\n",
    "    def __init__(self, \n",
    "                 input_dim,\n",
    "                 finetune=False):\n",
    "        \n",
    "        super().__init__()\n",
    "\n",
    "        self.loss_fn = nn.CrossEntropyLoss(\n",
    "            weight=torch.FloatTensor(list(classification_weights.values()))\n",
    "            )\n",
    "\n",
    "        self.input_dim = torch.as_tensor(input_dim)\n",
    "        \n",
    "        self.input_encoder = load_pretrained()\n",
    "\n",
    "        # Freezing all layers but the last two\n",
    "        for param in self.input_encoder[:-2].parameters():\n",
    "            param.requires_grad = False\n",
    "\n",
    "        self.output_decoder = nn.Sequential(        \n",
    "            nn.AdaptiveAvgPool2d((1,1)),\n",
    "            nn.Flatten(),\n",
    "            nn.Dropout(),\n",
    "            nn.Linear(576, 2),\n",
    "        )\n",
    "\n",
    "        self._init_weights()\n",
    "\n",
    "\n",
    "    def _init_weights(self):\n",
    "        self.output_decoder.apply(weight_init)\n",
    "        \n",
    "\n",
    "    def forward(self, x):\n",
    "        assert x.shape[-2] == self.input_dim[0] and x.shape[-1] == self.input_dim[1]\n",
    "\n",
    "        x = self.input_encoder(x)\n",
    "        x = self.output_decoder(x)\n",
    "\n",
    "        return x\n",
    "\n",
    "\n",
    "    def loss(self, outputs, targets):\n",
    "        return self.loss_fn(outputs, targets)\n",
    "        \n",
    "\n",
    "\n",
    "    def generate_opt(self):\n",
    "        params = [\n",
    "                  {\"params\": nn.ModuleList([self.output_decoder]).parameters()},\n",
    "                  {\"params\": self.input_encoder[-2:].parameters(), \"lr\": PRETRAINED_LR,}\n",
    "        ]\n",
    "        \n",
    "        return torch.optim.AdamW(\n",
    "                params,\n",
    "                lr=LR,\n",
    "                weight_decay=WEIGHT_DECAY,\n",
    "                betas=BETAS,\n",
    "                eps=ADAM_EPS\n",
    "        )\n"
   ]
  },
  {
   "cell_type": "code",
   "execution_count": 16,
   "id": "11ed9a06",
   "metadata": {
    "execution": {
     "iopub.execute_input": "2021-08-17T06:01:13.243040Z",
     "iopub.status.busy": "2021-08-17T06:01:13.239656Z",
     "iopub.status.idle": "2021-08-17T06:01:13.245540Z",
     "shell.execute_reply": "2021-08-17T06:01:13.245080Z",
     "shell.execute_reply.started": "2021-08-17T05:51:48.156287Z"
    },
    "id": "lLqeJH-May_c",
    "outputId": "8d244c31-47a0-42d7-9ab7-1bff6820d5ed",
    "papermill": {
     "duration": 0.041638,
     "end_time": "2021-08-17T06:01:13.245648",
     "exception": false,
     "start_time": "2021-08-17T06:01:13.204010",
     "status": "completed"
    },
    "tags": []
   },
   "outputs": [],
   "source": [
    "# From https://gist.github.com/stefanonardo/693d96ceb2f531fa05db530f3e21517d\n",
    "class EarlyStopping:\n",
    "    def __init__(self, mode='min', \n",
    "                 min_delta=0, \n",
    "                 patience=EARLY_STOPPING_PATIENCE,\n",
    "                 percentage=False):\n",
    "        self.mode = mode\n",
    "        self.min_delta = min_delta\n",
    "        self.patience = patience\n",
    "        self.best = None\n",
    "        self.num_bad_epochs = 0\n",
    "        self.is_better = None\n",
    "        self._init_is_better(mode, min_delta, percentage)\n",
    "\n",
    "        # This helps us saving the model\n",
    "        # whenever this is true we will save the model\n",
    "        self.testing_patience = False\n",
    "\n",
    "        if patience == 0:\n",
    "            self.is_better = lambda a, b: True\n",
    "            self.step = lambda a: False\n",
    "\n",
    "    def stop(self, metrics):\n",
    "        if self.best is None:\n",
    "            self.best = metrics\n",
    "            return False\n",
    "\n",
    "        if np.isnan(metrics):\n",
    "            self.testing_patience = True\n",
    "            return True\n",
    "\n",
    "        if self.is_better(metrics, self.best):\n",
    "            self.num_bad_epochs = 0\n",
    "            self.best = metrics\n",
    "            self.testing_patience = False\n",
    "        else:\n",
    "            self.num_bad_epochs += 1\n",
    "            self.testing_patience = True\n",
    "\n",
    "        if self.num_bad_epochs >= self.patience:\n",
    "            self.testing_patience = True\n",
    "            return True\n",
    "\n",
    "        return False\n",
    "\n",
    "    def _init_is_better(self, mode, min_delta, percentage):\n",
    "        if mode not in {'min', 'max'}:\n",
    "            raise ValueError('mode ' + mode + ' is unknown!')\n",
    "        if not percentage:\n",
    "            if mode == 'min':\n",
    "                self.is_better = lambda a, best: a < best - min_delta\n",
    "            if mode == 'max':\n",
    "                self.is_better = lambda a, best: a > best + min_delta\n",
    "        else:\n",
    "            if mode == 'min':\n",
    "                self.is_better = lambda a, best: a < best - (\n",
    "                            best * min_delta / 100)\n",
    "            if mode == 'max':\n",
    "                self.is_better = lambda a, best: a > best + (\n",
    "                            best * min_delta / 100)"
   ]
  },
  {
   "cell_type": "markdown",
   "id": "38bb3ef3",
   "metadata": {
    "id": "SExTAXljVy94",
    "papermill": {
     "duration": 0.028077,
     "end_time": "2021-08-17T06:01:13.301932",
     "exception": false,
     "start_time": "2021-08-17T06:01:13.273855",
     "status": "completed"
    },
    "tags": []
   },
   "source": [
    "## Defining the Trainer Class"
   ]
  },
  {
   "cell_type": "markdown",
   "id": "d209e3cf",
   "metadata": {
    "id": "wDtTWYncVrwc",
    "papermill": {
     "duration": 0.027672,
     "end_time": "2021-08-17T06:01:13.357656",
     "exception": false,
     "start_time": "2021-08-17T06:01:13.329984",
     "status": "completed"
    },
    "tags": []
   },
   "source": [
    "These are a bunch of helper functions and classes, just to use in the trainer class. The most intersting point is that we are using a CosineAnnealing learning rate scheme that has warmups every few steps with a dynamic cyclical routine. The cycle lengthens everytime it completes a new one. "
   ]
  },
  {
   "cell_type": "code",
   "execution_count": 17,
   "id": "e3dc1156",
   "metadata": {
    "execution": {
     "iopub.execute_input": "2021-08-17T06:01:13.420782Z",
     "iopub.status.busy": "2021-08-17T06:01:13.420044Z",
     "iopub.status.idle": "2021-08-17T06:01:13.422360Z",
     "shell.execute_reply": "2021-08-17T06:01:13.422728Z",
     "shell.execute_reply.started": "2021-08-17T05:51:48.172295Z"
    },
    "id": "3dgCDkKkVqkX",
    "outputId": "44c98df5-fba1-4306-9d58-dc467ec4cfd9",
    "papermill": {
     "duration": 0.037617,
     "end_time": "2021-08-17T06:01:13.422847",
     "exception": false,
     "start_time": "2021-08-17T06:01:13.385230",
     "status": "completed"
    },
    "tags": []
   },
   "outputs": [],
   "source": [
    "def compute_f1(outputs, targets):\n",
    "    binary_outputs = outputs.argmax(dim=-1).detach().cpu().squeeze().numpy()\n",
    "    targets = targets.detach().cpu().squeeze().numpy()\n",
    "    return f1_score(targets, binary_outputs)\n",
    "\n",
    "# A Simple Helper class to circumvent sklearn's need for classifiers\n",
    "class IdentityClassifier:\n",
    "    def __init__(self):\n",
    "        self._estimator_type = 'classifier'\n",
    "        self._classes = [0, 1]\n",
    "\n",
    "    def predict(self, X):\n",
    "        return X\n",
    "\n",
    "def classification_report_string_with_dict(**params):\n",
    "    if \"output_dict\" in params:\n",
    "        params.pop(\"output_dict\")\n",
    "    return classification_report(**params), classification_report(output_dict=True, **params)\n"
   ]
  },
  {
   "cell_type": "markdown",
   "id": "3e22453b",
   "metadata": {
    "id": "a1ljxVy4u3Z1",
    "papermill": {
     "duration": 0.027866,
     "end_time": "2021-08-17T06:01:13.479312",
     "exception": false,
     "start_time": "2021-08-17T06:01:13.451446",
     "status": "completed"
    },
    "tags": []
   },
   "source": [
    "As I mentioned above, we use LR scheduling (cosine annealing with warm restarts) and early stopping regularizations, which chooses the best model by it's validation loss value."
   ]
  },
  {
   "cell_type": "code",
   "execution_count": 18,
   "id": "255005ad",
   "metadata": {
    "execution": {
     "iopub.execute_input": "2021-08-17T06:01:13.564533Z",
     "iopub.status.busy": "2021-08-17T06:01:13.553982Z",
     "iopub.status.idle": "2021-08-17T06:01:13.575423Z",
     "shell.execute_reply": "2021-08-17T06:01:13.574963Z",
     "shell.execute_reply.started": "2021-08-17T05:51:48.188408Z"
    },
    "id": "dw9gnPDCRlJC",
    "outputId": "81458bc2-e237-41e9-e834-896906c65f2a",
    "papermill": {
     "duration": 0.068066,
     "end_time": "2021-08-17T06:01:13.575534",
     "exception": false,
     "start_time": "2021-08-17T06:01:13.507468",
     "status": "completed"
    },
    "tags": []
   },
   "outputs": [],
   "source": [
    "class Trainer:\n",
    "    def __init__(self,\n",
    "                 model,\n",
    "                 model_name,\n",
    "                 train_loader,\n",
    "                 val_loader,\n",
    "                 test_loader,\n",
    "                 max_epochs=MAX_EPOCHS,\n",
    "                 amp=True,\n",
    "                 progress=False,\n",
    "                 device=device):\n",
    "    \n",
    "        self.device = device\n",
    "        self.model = model\n",
    "\n",
    "        self.opt = self.model.generate_opt()\n",
    "\n",
    "        self.scheduler = torch.optim.lr_scheduler.CosineAnnealingWarmRestarts(\n",
    "            self.opt,\n",
    "            T_0_COSINE_ANNEALING,\n",
    "            T_MULT_COSINE_ANNEALING,\n",
    "            verbose = False,\n",
    "        )\n",
    "\n",
    "        self.stopper = EarlyStopping()\n",
    "\n",
    "        self.cur_epoch = 1\n",
    "        self.max_epochs = max_epochs\n",
    "\n",
    "        self.train_loader = train_loader\n",
    "        self.val_loader = val_loader\n",
    "        self.test_loader = test_loader\n",
    "\n",
    "        self.model_name = model_name\n",
    "        self.save_loc = os.path.join(SAVE_LOCATION, model_name)\n",
    "        \n",
    "\n",
    "        self.training_info = []\n",
    "\n",
    "        self.amp = amp\n",
    "\n",
    "        self.debug = False\n",
    "        self.progress = progress\n",
    "        \n",
    "    @property\n",
    "    def debug(self):\n",
    "        return self._debug\n",
    "\n",
    "    @property\n",
    "    def amp(self):\n",
    "        return self._amp\n",
    "    \n",
    "    @amp.setter\n",
    "    def amp(self, flag):\n",
    "        self._amp = flag\n",
    "        self.scaler = torch.cuda.amp.GradScaler(enabled=self._amp)\n",
    "\n",
    "\n",
    "    @debug.setter\n",
    "    def debug(self, flag):\n",
    "        self._debug = flag\n",
    "        if flag is False:\n",
    "            if hasattr(self, \"original_values\"):\n",
    "                for item in self.original_values:\n",
    "                    self.__dict__[item] = self.original_values[item]\n",
    "        else:\n",
    "            self.original_values = {\n",
    "                \"train_loader\": self.train_loader,\n",
    "                \"val_loader\": self.val_loader,\n",
    "                \"test_loader\": self.test_loader,\n",
    "                \"max_epochs\": self.max_epochs,\n",
    "            }\n",
    "            self.train_loader = DataLoader(self.train_loader.dataset, \n",
    "                                           batch_size=2,\n",
    "                                           shuffle=False,\n",
    "                                           num_workers=2,\n",
    "                                           collate_fn=BatchCollater(),\n",
    "                                           prefetch_factor=2)\n",
    "            \n",
    "            self.val_loader = DataLoader(self.val_loader.dataset, \n",
    "                                           batch_size=4,\n",
    "                                           collate_fn=BatchCollater(),\n",
    "                                           shuffle=False)\n",
    "            \n",
    "            self.test_loader = DataLoader(self.test_loader.dataset, \n",
    "                                          batch_size=4,\n",
    "                                          collate_fn=BatchCollater(),\n",
    "                                          shuffle=False)\n",
    "            self.max_epochs = 1\n",
    "\n",
    "\n",
    "    @property\n",
    "    def save_loc(self):\n",
    "        return self._save_loc\n",
    "\n",
    "    @save_loc.setter\n",
    "    def save_loc(self, path):\n",
    "        \n",
    "        self.model_save_location = os.path.join(path, f\"saved_model.model\")\n",
    "        self.training_info_location = os.path.join(path, \"training_info.json\")\n",
    "        self.test_info_location = os.path.join(path, \"test_info.json\")\n",
    "\n",
    "        self._save_loc = path\n",
    "        Path(self._save_loc).mkdir(exist_ok=True)\n",
    "\n",
    "\n",
    "    def save_model(self):\n",
    "        state_dict = {\n",
    "            \"training_info\": self.training_info,\n",
    "            \"model_state\": self.model.state_dict(),\n",
    "            \"opt_state\": self.opt.state_dict(),\n",
    "            \"scaler_state\": self.scaler.state_dict()\n",
    "        }\n",
    "\n",
    "        torch.save(state_dict, self.model_save_location)\n",
    "\n",
    "\n",
    "    def save_training_info(self):\n",
    "        with open(self.training_info_location, \"w\") as jfile:\n",
    "            json.dump(self.training_info, jfile)\n",
    "\n",
    "    def load_model(self):\n",
    "        state_dict = torch.load(self.model_save_location)\n",
    "        self.training_info = state_dict[\"training_info\"]\n",
    "        self.model.load_state_dict(state_dict[\"model_state\"])\n",
    "        self.opt.load_state_dict(state_dict[\"opt_state\"])\n",
    "        self.scaler.load_state_dict(state_dict[\"scaler_state\"])\n",
    "\n",
    "        \n",
    "    def validate(self):\n",
    "        running_info = {\n",
    "                    \"loss\": 0,\n",
    "                    \"f1\": 0,\n",
    "                    \"numel\": 0,\n",
    "        }\n",
    "        self.model.eval()\n",
    "        with torch.no_grad():\n",
    "            for batch in self.val_loader:\n",
    "                for k in batch:\n",
    "                    batch[k] = batch[k].to(self.device)\n",
    "\n",
    "                outputs = self.model(batch[\"image\"])\n",
    "                loss = self.model.loss(outputs, batch[\"label\"])\n",
    "\n",
    "                batch_size = len(batch[\"image\"])\n",
    "                running_info[\"loss\"] += loss.item() * batch_size\n",
    "                running_info[\"f1\"] += compute_f1(outputs, batch[\"label\"]) * batch_size\n",
    "                running_info[\"numel\"] += batch_size\n",
    "            \n",
    "        val_info = {\n",
    "            f\"val_loss\": running_info[\"loss\"] / running_info[\"numel\"],\n",
    "            f\"val_f1\": running_info[\"f1\"] / running_info[\"numel\"]\n",
    "        }\n",
    "\n",
    "        return val_info\n",
    "\n",
    "    def test(self):\n",
    "        outputs = []\n",
    "        targets = []\n",
    "        self.model.eval()\n",
    "        loss = 0\n",
    "        with torch.no_grad():\n",
    "            for batch in self.test_loader:\n",
    "                for k in batch:\n",
    "                    batch[k] = batch[k].to(self.device)\n",
    "\n",
    "                o = self.model(batch[\"image\"])\n",
    "\n",
    "                loss += self.model.loss(o, batch[\"label\"]).item() * len(batch[\"label\"])\n",
    "\n",
    "                outputs.extend(o.argmax(dim=-1).detach().cpu().tolist())\n",
    "                targets.extend(batch[\"label\"].detach().cpu().tolist())\n",
    "                \n",
    "        outputs = np.asarray(outputs).astype(np.int)\n",
    "        targets = np.asarray(targets).astype(np.int)\n",
    "        \n",
    "        \n",
    "        report, test_info = classification_report_string_with_dict(\n",
    "                y_true=targets,\n",
    "                y_pred=outputs,\n",
    "                target_names = [\"Normal\", \"Pneumonia\"],\n",
    "            )\n",
    "        \n",
    "        \n",
    "        test_info[\"test_loss\"] = loss / len(outputs)\n",
    "\n",
    "        print(report)\n",
    "        print(f\"test_loss: {test_info['test_loss']}\")\n",
    "\n",
    "\n",
    "        fig, ax = plt.subplots()\n",
    "        ax.grid(None)\n",
    "        plot_confusion_matrix(IdentityClassifier(), outputs, targets,\n",
    "                              display_labels=[\"Normal\", \"Pneumonia\"],\n",
    "                              normalize='true', \n",
    "                              values_format='.2%',\n",
    "                              ax=ax)\n",
    "        \n",
    "        plt.show()\n",
    "\n",
    "        with open(self.test_info_location, \"w\") as jfile:\n",
    "            json.dump(test_info, jfile)\n",
    "\n",
    "\n",
    "    def train(self):\n",
    "        self.model.train()\n",
    "        begin = True\n",
    "        for epoch in range(self.cur_epoch, self.max_epochs+1):\n",
    "            running_info = {\n",
    "                    \"loss\": 0,\n",
    "                    \"f1\": 0,\n",
    "                    \"numel\": 0,\n",
    "                }\n",
    "            if self.progress:\n",
    "                pbar = tqdm(total=len(self.train_loader), \n",
    "                            desc= f\"Epoch {epoch} out of {self.max_epochs}.\",\n",
    "                            leave=False)\n",
    "\n",
    "            for batch in self.train_loader:\n",
    "                for k in batch:\n",
    "                    batch[k] = batch[k].to(self.device)\n",
    "\n",
    "                self.opt.zero_grad()\n",
    "                with torch.cuda.amp.autocast(enabled=self.amp):\n",
    "                    outputs = self.model(batch[\"image\"])\n",
    "                    loss = self.model.loss(outputs, batch[\"label\"])\n",
    "            \n",
    "                self.scaler.scale(loss).backward()\n",
    "                self.scaler.unscale_(self.opt)\n",
    "                torch.nn.utils.clip_grad_norm_(self.model.parameters(), MAX_GRADIENT_NORM)\n",
    "                self.scaler.step(self.opt)\n",
    "                self.scaler.update()\n",
    "\n",
    "                batch_size = len(batch[\"image\"])\n",
    "                batch_loss = loss.item()\n",
    "                running_info[\"loss\"] += batch_size * batch_loss\n",
    "                running_info[\"f1\"] += compute_f1(outputs, batch[\"label\"]) * batch_size\n",
    "                running_info[\"numel\"] += batch_size\n",
    "                \n",
    "                if self.progress:\n",
    "                    pbar.set_postfix(batch_loss=batch_loss)\n",
    "                    pbar.update()\n",
    "                    time.sleep(0.01)\n",
    "            \n",
    "            self.cur_epoch = epoch\n",
    "            self.scheduler.step()\n",
    "            \n",
    "            if self.progress:\n",
    "                pbar.close()\n",
    "                time.sleep(0.01)\n",
    "                \n",
    "            info = {\n",
    "                \"epoch\": epoch,\n",
    "                \"train_loss\": running_info[\"loss\"] / running_info[\"numel\"],\n",
    "                \"train_f1\": running_info[\"f1\"] / running_info[\"numel\"],\n",
    "            }\n",
    "            \n",
    "            info.update(self.validate())\n",
    "            self.training_info.append(info)\n",
    "\n",
    "            message = \"\\t\".join([f\"{k}: {v:.3f}\" for k, v in info.items()])\n",
    "            print(message)\n",
    "            self.save_training_info()\n",
    "            if self.stopper.stop(info[\"val_loss\"]):\n",
    "                break\n",
    "            else:\n",
    "                if self.stopper.testing_patience is False:\n",
    "                    self.save_model()\n",
    "            "
   ]
  },
  {
   "cell_type": "markdown",
   "id": "c0eea67a",
   "metadata": {
    "id": "Qth58Ls6V49Z",
    "papermill": {
     "duration": 0.027923,
     "end_time": "2021-08-17T06:01:13.631126",
     "exception": false,
     "start_time": "2021-08-17T06:01:13.603203",
     "status": "completed"
    },
    "tags": []
   },
   "source": [
    "# Training"
   ]
  },
  {
   "cell_type": "markdown",
   "id": "7a98ef0e",
   "metadata": {
    "id": "UOUlge1TV9eT",
    "papermill": {
     "duration": 0.028579,
     "end_time": "2021-08-17T06:01:13.687897",
     "exception": false,
     "start_time": "2021-08-17T06:01:13.659318",
     "status": "completed"
    },
    "tags": []
   },
   "source": [
    "### Intializing the datasets and the loaders"
   ]
  },
  {
   "cell_type": "code",
   "execution_count": 19,
   "id": "705a6577",
   "metadata": {
    "execution": {
     "iopub.execute_input": "2021-08-17T06:01:13.748294Z",
     "iopub.status.busy": "2021-08-17T06:01:13.747768Z",
     "iopub.status.idle": "2021-08-17T06:02:11.514241Z",
     "shell.execute_reply": "2021-08-17T06:02:11.514640Z",
     "shell.execute_reply.started": "2021-08-17T05:51:48.234702Z"
    },
    "id": "JrA8J4PhTEn-",
    "outputId": "942e6d6d-f83e-42d9-bf4e-902d72504ac1",
    "papermill": {
     "duration": 57.798819,
     "end_time": "2021-08-17T06:02:11.514806",
     "exception": false,
     "start_time": "2021-08-17T06:01:13.715987",
     "status": "completed"
    },
    "tags": []
   },
   "outputs": [
    {
     "data": {
      "application/vnd.jupyter.widget-view+json": {
       "model_id": "d1c238fc9d54427484e964283bbc27ae",
       "version_major": 2,
       "version_minor": 0
      },
      "text/plain": [
       "creating train set:   0%|          | 0/5216 [00:00<?, ?it/s]"
      ]
     },
     "metadata": {},
     "output_type": "display_data"
    },
    {
     "data": {
      "application/vnd.jupyter.widget-view+json": {
       "model_id": "6562c02b19414bc682cc7dd9a05e4b2e",
       "version_major": 2,
       "version_minor": 0
      },
      "text/plain": [
       "creating val set:   0%|          | 0/16 [00:00<?, ?it/s]"
      ]
     },
     "metadata": {},
     "output_type": "display_data"
    },
    {
     "data": {
      "application/vnd.jupyter.widget-view+json": {
       "model_id": "eebbab686b9c486db78cbd4e165bd989",
       "version_major": 2,
       "version_minor": 0
      },
      "text/plain": [
       "creating test set:   0%|          | 0/624 [00:00<?, ?it/s]"
      ]
     },
     "metadata": {},
     "output_type": "display_data"
    }
   ],
   "source": [
    "initer = Initializer()\n",
    "params = initer.initialize(debug=False)"
   ]
  },
  {
   "cell_type": "markdown",
   "id": "018a70ee",
   "metadata": {
    "id": "9vlfaXXtWA73",
    "papermill": {
     "duration": 0.028975,
     "end_time": "2021-08-17T06:02:11.573780",
     "exception": false,
     "start_time": "2021-08-17T06:02:11.544805",
     "status": "completed"
    },
    "tags": []
   },
   "source": [
    "### Intitializing the model and the trainer class"
   ]
  },
  {
   "cell_type": "code",
   "execution_count": 20,
   "id": "974940d6",
   "metadata": {
    "execution": {
     "iopub.execute_input": "2021-08-17T06:02:11.752935Z",
     "iopub.status.busy": "2021-08-17T06:02:11.752050Z",
     "iopub.status.idle": "2021-08-17T06:02:16.323982Z",
     "shell.execute_reply": "2021-08-17T06:02:16.324582Z",
     "shell.execute_reply.started": "2021-08-17T05:52:52.306025Z"
    },
    "id": "Sn0RML4MRAOj",
    "outputId": "da26288a-d209-4781-8eb9-6f7069eb7aa1",
    "papermill": {
     "duration": 4.721218,
     "end_time": "2021-08-17T06:02:16.324782",
     "exception": false,
     "start_time": "2021-08-17T06:02:11.603564",
     "status": "completed"
    },
    "tags": []
   },
   "outputs": [
    {
     "name": "stderr",
     "output_type": "stream",
     "text": [
      "Downloading: \"https://download.pytorch.org/models/mobilenet_v3_small-047dcff4.pth\" to /root/.cache/torch/hub/checkpoints/mobilenet_v3_small-047dcff4.pth\n"
     ]
    },
    {
     "data": {
      "application/vnd.jupyter.widget-view+json": {
       "model_id": "5db3329e8c254ad39d50d3014fee6ecc",
       "version_major": 2,
       "version_minor": 0
      },
      "text/plain": [
       "  0%|          | 0.00/9.83M [00:00<?, ?B/s]"
      ]
     },
     "metadata": {},
     "output_type": "display_data"
    },
    {
     "name": "stdout",
     "output_type": "stream",
     "text": [
      "Total learnable parameters: 3.52E+05\n"
     ]
    }
   ],
   "source": [
    "import gc\n",
    "gc.collect()\n",
    "torch.cuda.empty_cache()\n",
    "model = PneumoniaNet(input_dim=IMAGE_SIZE).to(device)\n",
    "trainer = Trainer(\n",
    "    model,\n",
    "    \"pneumonia_model\",\n",
    "    train_loader=params[\"train_loader\"],\n",
    "    val_loader=params[\"val_loader\"],\n",
    "    test_loader=params[\"test_loader\"],\n",
    "    amp=True,\n",
    ")\n",
    "print(\n",
    "    f\"Total learnable parameters: {sum(p.numel() for p in model.parameters() if p.requires_grad):.2E}\"\n",
    ")\n"
   ]
  },
  {
   "cell_type": "markdown",
   "id": "01bc37cd",
   "metadata": {
    "id": "cNoVVAzDWFU9",
    "papermill": {
     "duration": 0.031157,
     "end_time": "2021-08-17T06:02:16.387421",
     "exception": false,
     "start_time": "2021-08-17T06:02:16.356264",
     "status": "completed"
    },
    "tags": []
   },
   "source": [
    "### Training the model"
   ]
  },
  {
   "cell_type": "code",
   "execution_count": 21,
   "id": "7838b21c",
   "metadata": {
    "execution": {
     "iopub.execute_input": "2021-08-17T06:02:16.453567Z",
     "iopub.status.busy": "2021-08-17T06:02:16.453002Z",
     "iopub.status.idle": "2021-08-17T06:11:16.494422Z",
     "shell.execute_reply": "2021-08-17T06:11:16.494855Z",
     "shell.execute_reply.started": "2021-08-17T05:52:54.984089Z"
    },
    "id": "grbo8doRrL7d",
    "outputId": "bf5f9cda-243b-464a-8e7d-ba42887675e7",
    "papermill": {
     "duration": 540.077132,
     "end_time": "2021-08-17T06:11:16.495009",
     "exception": false,
     "start_time": "2021-08-17T06:02:16.417877",
     "status": "completed"
    },
    "tags": []
   },
   "outputs": [
    {
     "name": "stdout",
     "output_type": "stream",
     "text": [
      "epoch: 1.000\ttrain_loss: 0.473\ttrain_f1: 0.834\tval_loss: 1.667\tval_f1: 0.696\n",
      "epoch: 2.000\ttrain_loss: 0.301\ttrain_f1: 0.911\tval_loss: 0.443\tval_f1: 0.842\n",
      "epoch: 3.000\ttrain_loss: 0.144\ttrain_f1: 0.960\tval_loss: 0.503\tval_f1: 0.889\n",
      "epoch: 4.000\ttrain_loss: 0.126\ttrain_f1: 0.965\tval_loss: 0.154\tval_f1: 1.000\n",
      "epoch: 5.000\ttrain_loss: 0.119\ttrain_f1: 0.969\tval_loss: 0.273\tval_f1: 0.941\n",
      "epoch: 6.000\ttrain_loss: 0.106\ttrain_f1: 0.973\tval_loss: 0.282\tval_f1: 0.889\n",
      "epoch: 7.000\ttrain_loss: 0.101\ttrain_f1: 0.970\tval_loss: 0.093\tval_f1: 1.000\n",
      "epoch: 8.000\ttrain_loss: 0.093\ttrain_f1: 0.975\tval_loss: 0.100\tval_f1: 1.000\n",
      "epoch: 9.000\ttrain_loss: 0.096\ttrain_f1: 0.972\tval_loss: 0.123\tval_f1: 1.000\n",
      "epoch: 10.000\ttrain_loss: 0.094\ttrain_f1: 0.973\tval_loss: 0.087\tval_f1: 1.000\n",
      "epoch: 11.000\ttrain_loss: 0.095\ttrain_f1: 0.974\tval_loss: 0.048\tval_f1: 1.000\n",
      "epoch: 12.000\ttrain_loss: 0.095\ttrain_f1: 0.974\tval_loss: 0.035\tval_f1: 1.000\n",
      "epoch: 13.000\ttrain_loss: 0.095\ttrain_f1: 0.973\tval_loss: 0.139\tval_f1: 1.000\n",
      "epoch: 14.000\ttrain_loss: 0.087\ttrain_f1: 0.976\tval_loss: 0.059\tval_f1: 1.000\n",
      "epoch: 15.000\ttrain_loss: 0.091\ttrain_f1: 0.976\tval_loss: 0.130\tval_f1: 1.000\n",
      "epoch: 16.000\ttrain_loss: 0.086\ttrain_f1: 0.978\tval_loss: 0.065\tval_f1: 1.000\n",
      "epoch: 17.000\ttrain_loss: 0.079\ttrain_f1: 0.980\tval_loss: 0.296\tval_f1: 0.889\n",
      "epoch: 18.000\ttrain_loss: 0.073\ttrain_f1: 0.980\tval_loss: 0.419\tval_f1: 0.842\n",
      "epoch: 19.000\ttrain_loss: 0.079\ttrain_f1: 0.980\tval_loss: 0.211\tval_f1: 0.941\n",
      "epoch: 20.000\ttrain_loss: 0.075\ttrain_f1: 0.980\tval_loss: 0.126\tval_f1: 1.000\n",
      "epoch: 21.000\ttrain_loss: 0.071\ttrain_f1: 0.980\tval_loss: 0.103\tval_f1: 0.933\n",
      "epoch: 22.000\ttrain_loss: 0.070\ttrain_f1: 0.980\tval_loss: 0.100\tval_f1: 1.000\n",
      "epoch: 23.000\ttrain_loss: 0.074\ttrain_f1: 0.981\tval_loss: 0.092\tval_f1: 1.000\n",
      "epoch: 24.000\ttrain_loss: 0.071\ttrain_f1: 0.982\tval_loss: 0.164\tval_f1: 1.000\n",
      "epoch: 25.000\ttrain_loss: 0.071\ttrain_f1: 0.981\tval_loss: 0.129\tval_f1: 0.941\n",
      "epoch: 26.000\ttrain_loss: 0.064\ttrain_f1: 0.984\tval_loss: 0.056\tval_f1: 1.000\n",
      "epoch: 27.000\ttrain_loss: 0.069\ttrain_f1: 0.982\tval_loss: 0.048\tval_f1: 1.000\n",
      "epoch: 28.000\ttrain_loss: 0.071\ttrain_f1: 0.981\tval_loss: 0.123\tval_f1: 0.941\n",
      "epoch: 29.000\ttrain_loss: 0.069\ttrain_f1: 0.980\tval_loss: 0.181\tval_f1: 0.941\n",
      "epoch: 30.000\ttrain_loss: 0.068\ttrain_f1: 0.983\tval_loss: 0.159\tval_f1: 0.941\n",
      "epoch: 31.000\ttrain_loss: 0.079\ttrain_f1: 0.977\tval_loss: 0.075\tval_f1: 1.000\n",
      "epoch: 32.000\ttrain_loss: 0.074\ttrain_f1: 0.980\tval_loss: 0.148\tval_f1: 0.941\n"
     ]
    }
   ],
   "source": [
    "trainer.train()"
   ]
  },
  {
   "cell_type": "markdown",
   "id": "cbfdcb38",
   "metadata": {
    "id": "XgsXqlY_WHiy",
    "papermill": {
     "duration": 0.039492,
     "end_time": "2021-08-17T06:11:16.573091",
     "exception": false,
     "start_time": "2021-08-17T06:11:16.533599",
     "status": "completed"
    },
    "tags": []
   },
   "source": [
    "# Plotting the training history"
   ]
  },
  {
   "cell_type": "code",
   "execution_count": 22,
   "id": "73e01780",
   "metadata": {
    "execution": {
     "iopub.execute_input": "2021-08-17T06:11:16.687909Z",
     "iopub.status.busy": "2021-08-17T06:11:16.676290Z",
     "iopub.status.idle": "2021-08-17T06:11:17.043564Z",
     "shell.execute_reply": "2021-08-17T06:11:17.043061Z"
    },
    "id": "7UejCA8rL_RB",
    "outputId": "9055a14d-626f-4f5d-cb1c-a183d60f1261",
    "papermill": {
     "duration": 0.430379,
     "end_time": "2021-08-17T06:11:17.043685",
     "exception": false,
     "start_time": "2021-08-17T06:11:16.613306",
     "status": "completed"
    },
    "tags": []
   },
   "outputs": [
    {
     "data": {
      "image/png": "[encoded data removed]",
      "text/plain": [
       "<Figure size 504x792 with 2 Axes>"
      ]
     },
     "metadata": {},
     "output_type": "display_data"
    }
   ],
   "source": [
    "# Plotting loss and f1 score for train and validation\n",
    "fig, axes = plt.subplots(2, 1, figsize=(7,11))\n",
    "\n",
    "training_info = pd.DataFrame(trainer.training_info)\n",
    "\n",
    "training_info.plot(x=\"epoch\", \n",
    "                   y =[\"train_loss\", \"val_loss\"], \n",
    "                   ax=axes[0])\n",
    "axes[0].set_title(\"Loss During Training\")\n",
    "\n",
    "training_info.plot(x=\"epoch\", \n",
    "                   y =[\"train_f1\", \"val_f1\"], \n",
    "                   ax=axes[1])\n",
    "axes[1].set_title(\"F1 Score During Training\")\n",
    "\n",
    "plt.show()"
   ]
  },
  {
   "cell_type": "markdown",
   "id": "3ab7311c",
   "metadata": {
    "id": "YZfmcInoWLHI",
    "papermill": {
     "duration": 0.041588,
     "end_time": "2021-08-17T06:11:17.126336",
     "exception": false,
     "start_time": "2021-08-17T06:11:17.084748",
     "status": "completed"
    },
    "tags": []
   },
   "source": [
    "# Plotting and printing the test results"
   ]
  },
  {
   "cell_type": "code",
   "execution_count": 23,
   "id": "97134625",
   "metadata": {
    "execution": {
     "iopub.execute_input": "2021-08-17T06:11:17.212893Z",
     "iopub.status.busy": "2021-08-17T06:11:17.211953Z",
     "iopub.status.idle": "2021-08-17T06:11:19.396752Z",
     "shell.execute_reply": "2021-08-17T06:11:19.397238Z"
    },
    "id": "TexLYohMXo8z",
    "outputId": "aa883066-ae38-4870-ed14-afaffcbbfa66",
    "papermill": {
     "duration": 2.230335,
     "end_time": "2021-08-17T06:11:19.397395",
     "exception": false,
     "start_time": "2021-08-17T06:11:17.167060",
     "status": "completed"
    },
    "tags": []
   },
   "outputs": [
    {
     "name": "stdout",
     "output_type": "stream",
     "text": [
      "              precision    recall  f1-score   support\n",
      "\n",
      "      Normal       0.93      0.82      0.87       234\n",
      "   Pneumonia       0.90      0.96      0.93       390\n",
      "\n",
      "    accuracy                           0.91       624\n",
      "   macro avg       0.91      0.89      0.90       624\n",
      "weighted avg       0.91      0.91      0.91       624\n",
      "\n",
      "test_loss: 0.27205933668674565\n"
     ]
    },
    {
     "data": {
      "image/png": "[encoded data removed]",
      "text/plain": [
       "<Figure size 432x288 with 2 Axes>"
      ]
     },
     "metadata": {},
     "output_type": "display_data"
    }
   ],
   "source": [
    "# Loading best model\n",
    "trainer.load_model()\n",
    "trainer.test()"
   ]
  }
 ],
 "metadata": {
  "kernelspec": {
   "display_name": "Python 3",
   "language": "python",
   "name": "python3"
  },
  "language_info": {
   "codemirror_mode": {
    "name": "ipython",
    "version": 3
   },
   "file_extension": ".py",
   "mimetype": "text/x-python",
   "name": "python",
   "nbconvert_exporter": "python",
   "pygments_lexer": "ipython3",
   "version": "3.7.10"
  },
  "papermill": {
   "default_parameters": {},
   "duration": 763.010904,
   "end_time": "2021-08-17T06:11:20.894066",
   "environment_variables": {},
   "exception": null,
   "input_path": "__notebook__.ipynb",
   "output_path": "__notebook__.ipynb",
   "parameters": {},
   "start_time": "2021-08-17T05:58:37.883162",
   "version": "2.3.3"
  },
  "widgets": {
   "application/vnd.jupyter.widget-state+json": {
    "state": {
     "0581237cee0a4c8bb5763a67cc25cf24": {
      "model_module": "@jupyter-widgets/controls",
      "model_module_version": "1.5.0",
      "model_name": "DescriptionStyleModel",
      "state": {
       "_model_module": "@jupyter-widgets/controls",
       "_model_module_version": "1.5.0",
       "_model_name": "DescriptionStyleModel",
       "_view_count": null,
       "_view_module": "@jupyter-widgets/base",
       "_view_module_version": "1.2.0",
       "_view_name": "StyleView",
       "description_width": ""
      }
     },
     "0a397e32c53148d5bef97570ec4bde2d": {
      "model_module": "@jupyter-widgets/controls",
      "model_module_version": "1.5.0",
      "model_name": "HTMLModel",
      "state": {
       "_dom_classes": [],
       "_model_module": "@jupyter-widgets/controls",
       "_model_module_version": "1.5.0",
       "_model_name": "HTMLModel",
       "_view_count": null,
       "_view_module": "@jupyter-widgets/controls",
       "_view_module_version": "1.5.0",
       "_view_name": "HTMLView",
       "description": "",
       "description_tooltip": null,
       "layout": "IPY_MODEL_682ab30a4b0a48e8997586caeb7e7d22",
       "placeholder": "​",
       "style": "IPY_MODEL_58985385b9a749e0bc89e08767f3a0f7",
       "value": "creating test set: 100%"
      }
     },
     "0c0d93c830ba40d3b651e30c998685ae": {
      "model_module": "@jupyter-widgets/controls",
      "model_module_version": "1.5.0",
      "model_name": "FloatProgressModel",
      "state": {
       "_dom_classes": [],
       "_model_module": "@jupyter-widgets/controls",
       "_model_module_version": "1.5.0",
       "_model_name": "FloatProgressModel",
       "_view_count": null,
       "_view_module": "@jupyter-widgets/controls",
       "_view_module_version": "1.5.0",
       "_view_name": "ProgressView",
       "bar_style": "success",
       "description": "",
       "description_tooltip": null,
       "layout": "IPY_MODEL_d419a3467eae4c228c33f960066e112c",
       "max": 10306551.0,
       "min": 0.0,
       "orientation": "horizontal",
       "style": "IPY_MODEL_ca71f684c01242cdb9762c51f089ddb3",
       "value": 10306551.0
      }
     },
     "12c1b73c1bb948a18b897864bb3342dc": {
      "model_module": "@jupyter-widgets/controls",
      "model_module_version": "1.5.0",
      "model_name": "HTMLModel",
      "state": {
       "_dom_classes": [],
       "_model_module": "@jupyter-widgets/controls",
       "_model_module_version": "1.5.0",
       "_model_name": "HTMLModel",
       "_view_count": null,
       "_view_module": "@jupyter-widgets/controls",
       "_view_module_version": "1.5.0",
       "_view_name": "HTMLView",
       "description": "",
       "description_tooltip": null,
       "layout": "IPY_MODEL_83a00f061d4c402db48759e130a119b6",
       "placeholder": "​",
       "style": "IPY_MODEL_849a15bbc45d46fcbb4df2dea8fd4374",
       "value": "creating train set: 100%"
      }
     },
     "12deddfebf2346cdb5c4a0122cfe82bf": {
      "model_module": "@jupyter-widgets/controls",
      "model_module_version": "1.5.0",
      "model_name": "HTMLModel",
      "state": {
       "_dom_classes": [],
       "_model_module": "@jupyter-widgets/controls",
       "_model_module_version": "1.5.0",
       "_model_name": "HTMLModel",
       "_view_count": null,
       "_view_module": "@jupyter-widgets/controls",
       "_view_module_version": "1.5.0",
       "_view_name": "HTMLView",
       "description": "",
       "description_tooltip": null,
       "layout": "IPY_MODEL_437cb612dad74412a0d0acfa6323a0b5",
       "placeholder": "​",
       "style": "IPY_MODEL_28cab7e957044e6abe94605155d1aa70",
       "value": " 624/624 [00:09&lt;00:00, 55.87it/s]"
      }
     },
     "16d7b4a2283543e387fe615cf5998c7a": {
      "model_module": "@jupyter-widgets/base",
      "model_module_version": "1.2.0",
      "model_name": "LayoutModel",
      "state": {
       "_model_module": "@jupyter-widgets/base",
       "_model_module_version": "1.2.0",
       "_model_name": "LayoutModel",
       "_view_count": null,
       "_view_module": "@jupyter-widgets/base",
       "_view_module_version": "1.2.0",
       "_view_name": "LayoutView",
       "align_content": null,
       "align_items": null,
       "align_self": null,
       "border": null,
       "bottom": null,
       "display": null,
       "flex": null,
       "flex_flow": null,
       "grid_area": null,
       "grid_auto_columns": null,
       "grid_auto_flow": null,
       "grid_auto_rows": null,
       "grid_column": null,
       "grid_gap": null,
       "grid_row": null,
       "grid_template_areas": null,
       "grid_template_columns": null,
       "grid_template_rows": null,
       "height": null,
       "justify_content": null,
       "justify_items": null,
       "left": null,
       "margin": null,
       "max_height": null,
       "max_width": null,
       "min_height": null,
       "min_width": null,
       "object_fit": null,
       "object_position": null,
       "order": null,
       "overflow": null,
       "overflow_x": null,
       "overflow_y": null,
       "padding": null,
       "right": null,
       "top": null,
       "visibility": null,
       "width": null
      }
     },
     "187e03f0cfef47fdbe23eda0f3d26d76": {
      "model_module": "@jupyter-widgets/controls",
      "model_module_version": "1.5.0",
      "model_name": "DescriptionStyleModel",
      "state": {
       "_model_module": "@jupyter-widgets/controls",
       "_model_module_version": "1.5.0",
       "_model_name": "DescriptionStyleModel",
       "_view_count": null,
       "_view_module": "@jupyter-widgets/base",
       "_view_module_version": "1.2.0",
       "_view_name": "StyleView",
       "description_width": ""
      }
     },
     "1b6af0b29d2c4f3ba7f2894749325d00": {
      "model_module": "@jupyter-widgets/controls",
      "model_module_version": "1.5.0",
      "model_name": "FloatProgressModel",
      "state": {
       "_dom_classes": [],
       "_model_module": "@jupyter-widgets/controls",
       "_model_module_version": "1.5.0",
       "_model_name": "FloatProgressModel",
       "_view_count": null,
       "_view_module": "@jupyter-widgets/controls",
       "_view_module_version": "1.5.0",
       "_view_name": "ProgressView",
       "bar_style": "success",
       "description": "",
       "description_tooltip": null,
       "layout": "IPY_MODEL_1f83b9e8494a46d99dab8fff001a5699",
       "max": 16.0,
       "min": 0.0,
       "orientation": "horizontal",
       "style": "IPY_MODEL_d51069cd01bb4056b353280d27eb8e44",
       "value": 16.0
      }
     },
     "1f83b9e8494a46d99dab8fff001a5699": {
      "model_module": "@jupyter-widgets/base",
      "model_module_version": "1.2.0",
      "model_name": "LayoutModel",
      "state": {
       "_model_module": "@jupyter-widgets/base",
       "_model_module_version": "1.2.0",
       "_model_name": "LayoutModel",
       "_view_count": null,
       "_view_module": "@jupyter-widgets/base",
       "_view_module_version": "1.2.0",
       "_view_name": "LayoutView",
       "align_content": null,
       "align_items": null,
       "align_self": null,
       "border": null,
       "bottom": null,
       "display": null,
       "flex": null,
       "flex_flow": null,
       "grid_area": null,
       "grid_auto_columns": null,
       "grid_auto_flow": null,
       "grid_auto_rows": null,
       "grid_column": null,
       "grid_gap": null,
       "grid_row": null,
       "grid_template_areas": null,
       "grid_template_columns": null,
       "grid_template_rows": null,
       "height": null,
       "justify_content": null,
       "justify_items": null,
       "left": null,
       "margin": null,
       "max_height": null,
       "max_width": null,
       "min_height": null,
       "min_width": null,
       "object_fit": null,
       "object_position": null,
       "order": null,
       "overflow": null,
       "overflow_x": null,
       "overflow_y": null,
       "padding": null,
       "right": null,
       "top": null,
       "visibility": null,
       "width": null
      }
     },
     "244f095523a04b70a10793f84bef1634": {
      "model_module": "@jupyter-widgets/base",
      "model_module_version": "1.2.0",
      "model_name": "LayoutModel",
      "state": {
       "_model_module": "@jupyter-widgets/base",
       "_model_module_version": "1.2.0",
       "_model_name": "LayoutModel",
       "_view_count": null,
       "_view_module": "@jupyter-widgets/base",
       "_view_module_version": "1.2.0",
       "_view_name": "LayoutView",
       "align_content": null,
       "align_items": null,
       "align_self": null,
       "border": null,
       "bottom": null,
       "display": null,
       "flex": null,
       "flex_flow": null,
       "grid_area": null,
       "grid_auto_columns": null,
       "grid_auto_flow": null,
       "grid_auto_rows": null,
       "grid_column": null,
       "grid_gap": null,
       "grid_row": null,
       "grid_template_areas": null,
       "grid_template_columns": null,
       "grid_template_rows": null,
       "height": null,
       "justify_content": null,
       "justify_items": null,
       "left": null,
       "margin": null,
       "max_height": null,
       "max_width": null,
       "min_height": null,
       "min_width": null,
       "object_fit": null,
       "object_position": null,
       "order": null,
       "overflow": null,
       "overflow_x": null,
       "overflow_y": null,
       "padding": null,
       "right": null,
       "top": null,
       "visibility": null,
       "width": null
      }
     },
     "26aacc16c47a47cda4b5c0c23b488ec9": {
      "model_module": "@jupyter-widgets/controls",
      "model_module_version": "1.5.0",
      "model_name": "FloatProgressModel",
      "state": {
       "_dom_classes": [],
       "_model_module": "@jupyter-widgets/controls",
       "_model_module_version": "1.5.0",
       "_model_name": "FloatProgressModel",
       "_view_count": null,
       "_view_module": "@jupyter-widgets/controls",
       "_view_module_version": "1.5.0",
       "_view_name": "ProgressView",
       "bar_style": "success",
       "description": "",
       "description_tooltip": null,
       "layout": "IPY_MODEL_244f095523a04b70a10793f84bef1634",
       "max": 624.0,
       "min": 0.0,
       "orientation": "horizontal",
       "style": "IPY_MODEL_ff013b42708f4bad91a46ec9b44f447e",
       "value": 624.0
      }
     },
     "28cab7e957044e6abe94605155d1aa70": {
      "model_module": "@jupyter-widgets/controls",
      "model_module_version": "1.5.0",
      "model_name": "DescriptionStyleModel",
      "state": {
       "_model_module": "@jupyter-widgets/controls",
       "_model_module_version": "1.5.0",
       "_model_name": "DescriptionStyleModel",
       "_view_count": null,
       "_view_module": "@jupyter-widgets/base",
       "_view_module_version": "1.2.0",
       "_view_name": "StyleView",
       "description_width": ""
      }
     },
     "2afefdc860dd4e5fa35f1768ec087893": {
      "model_module": "@jupyter-widgets/base",
      "model_module_version": "1.2.0",
      "model_name": "LayoutModel",
      "state": {
       "_model_module": "@jupyter-widgets/base",
       "_model_module_version": "1.2.0",
       "_model_name": "LayoutModel",
       "_view_count": null,
       "_view_module": "@jupyter-widgets/base",
       "_view_module_version": "1.2.0",
       "_view_name": "LayoutView",
       "align_content": null,
       "align_items": null,
       "align_self": null,
       "border": null,
       "bottom": null,
       "display": null,
       "flex": null,
       "flex_flow": null,
       "grid_area": null,
       "grid_auto_columns": null,
       "grid_auto_flow": null,
       "grid_auto_rows": null,
       "grid_column": null,
       "grid_gap": null,
       "grid_row": null,
       "grid_template_areas": null,
       "grid_template_columns": null,
       "grid_template_rows": null,
       "height": null,
       "justify_content": null,
       "justify_items": null,
       "left": null,
       "margin": null,
       "max_height": null,
       "max_width": null,
       "min_height": null,
       "min_width": null,
       "object_fit": null,
       "object_position": null,
       "order": null,
       "overflow": null,
       "overflow_x": null,
       "overflow_y": null,
       "padding": null,
       "right": null,
       "top": null,
       "visibility": null,
       "width": null
      }
     },
     "42b3b1c6e32d49c5aa2c3dacae5e3c07": {
      "model_module": "@jupyter-widgets/base",
      "model_module_version": "1.2.0",
      "model_name": "LayoutModel",
      "state": {
       "_model_module": "@jupyter-widgets/base",
       "_model_module_version": "1.2.0",
       "_model_name": "LayoutModel",
       "_view_count": null,
       "_view_module": "@jupyter-widgets/base",
       "_view_module_version": "1.2.0",
       "_view_name": "LayoutView",
       "align_content": null,
       "align_items": null,
       "align_self": null,
       "border": null,
       "bottom": null,
       "display": null,
       "flex": null,
       "flex_flow": null,
       "grid_area": null,
       "grid_auto_columns": null,
       "grid_auto_flow": null,
       "grid_auto_rows": null,
       "grid_column": null,
       "grid_gap": null,
       "grid_row": null,
       "grid_template_areas": null,
       "grid_template_columns": null,
       "grid_template_rows": null,
       "height": null,
       "justify_content": null,
       "justify_items": null,
       "left": null,
       "margin": null,
       "max_height": null,
       "max_width": null,
       "min_height": null,
       "min_width": null,
       "object_fit": null,
       "object_position": null,
       "order": null,
       "overflow": null,
       "overflow_x": null,
       "overflow_y": null,
       "padding": null,
       "right": null,
       "top": null,
       "visibility": null,
       "width": null
      }
     },
     "437cb612dad74412a0d0acfa6323a0b5": {
      "model_module": "@jupyter-widgets/base",
      "model_module_version": "1.2.0",
      "model_name": "LayoutModel",
      "state": {
       "_model_module": "@jupyter-widgets/base",
       "_model_module_version": "1.2.0",
       "_model_name": "LayoutModel",
       "_view_count": null,
       "_view_module": "@jupyter-widgets/base",
       "_view_module_version": "1.2.0",
       "_view_name": "LayoutView",
       "align_content": null,
       "align_items": null,
       "align_self": null,
       "border": null,
       "bottom": null,
       "display": null,
       "flex": null,
       "flex_flow": null,
       "grid_area": null,
       "grid_auto_columns": null,
       "grid_auto_flow": null,
       "grid_auto_rows": null,
       "grid_column": null,
       "grid_gap": null,
       "grid_row": null,
       "grid_template_areas": null,
       "grid_template_columns": null,
       "grid_template_rows": null,
       "height": null,
       "justify_content": null,
       "justify_items": null,
       "left": null,
       "margin": null,
       "max_height": null,
       "max_width": null,
       "min_height": null,
       "min_width": null,
       "object_fit": null,
       "object_position": null,
       "order": null,
       "overflow": null,
       "overflow_x": null,
       "overflow_y": null,
       "padding": null,
       "right": null,
       "top": null,
       "visibility": null,
       "width": null
      }
     },
     "4bfaf99c2dbd458397af4a905eaee820": {
      "model_module": "@jupyter-widgets/base",
      "model_module_version": "1.2.0",
      "model_name": "LayoutModel",
      "state": {
       "_model_module": "@jupyter-widgets/base",
       "_model_module_version": "1.2.0",
       "_model_name": "LayoutModel",
       "_view_count": null,
       "_view_module": "@jupyter-widgets/base",
       "_view_module_version": "1.2.0",
       "_view_name": "LayoutView",
       "align_content": null,
       "align_items": null,
       "align_self": null,
       "border": null,
       "bottom": null,
       "display": null,
       "flex": null,
       "flex_flow": null,
       "grid_area": null,
       "grid_auto_columns": null,
       "grid_auto_flow": null,
       "grid_auto_rows": null,
       "grid_column": null,
       "grid_gap": null,
       "grid_row": null,
       "grid_template_areas": null,
       "grid_template_columns": null,
       "grid_template_rows": null,
       "height": null,
       "justify_content": null,
       "justify_items": null,
       "left": null,
       "margin": null,
       "max_height": null,
       "max_width": null,
       "min_height": null,
       "min_width": null,
       "object_fit": null,
       "object_position": null,
       "order": null,
       "overflow": null,
       "overflow_x": null,
       "overflow_y": null,
       "padding": null,
       "right": null,
       "top": null,
       "visibility": null,
       "width": null
      }
     },
     "52c989af103e401aacb73c4272fd1308": {
      "model_module": "@jupyter-widgets/controls",
      "model_module_version": "1.5.0",
      "model_name": "DescriptionStyleModel",
      "state": {
       "_model_module": "@jupyter-widgets/controls",
       "_model_module_version": "1.5.0",
       "_model_name": "DescriptionStyleModel",
       "_view_count": null,
       "_view_module": "@jupyter-widgets/base",
       "_view_module_version": "1.2.0",
       "_view_name": "StyleView",
       "description_width": ""
      }
     },
     "58836ad7534a40e3b3791e6299e07f32": {
      "model_module": "@jupyter-widgets/controls",
      "model_module_version": "1.5.0",
      "model_name": "DescriptionStyleModel",
      "state": {
       "_model_module": "@jupyter-widgets/controls",
       "_model_module_version": "1.5.0",
       "_model_name": "DescriptionStyleModel",
       "_view_count": null,
       "_view_module": "@jupyter-widgets/base",
       "_view_module_version": "1.2.0",
       "_view_name": "StyleView",
       "description_width": ""
      }
     },
     "58985385b9a749e0bc89e08767f3a0f7": {
      "model_module": "@jupyter-widgets/controls",
      "model_module_version": "1.5.0",
      "model_name": "DescriptionStyleModel",
      "state": {
       "_model_module": "@jupyter-widgets/controls",
       "_model_module_version": "1.5.0",
       "_model_name": "DescriptionStyleModel",
       "_view_count": null,
       "_view_module": "@jupyter-widgets/base",
       "_view_module_version": "1.2.0",
       "_view_name": "StyleView",
       "description_width": ""
      }
     },
     "5b56981b4c7244638ab2e6ba93648739": {
      "model_module": "@jupyter-widgets/controls",
      "model_module_version": "1.5.0",
      "model_name": "HTMLModel",
      "state": {
       "_dom_classes": [],
       "_model_module": "@jupyter-widgets/controls",
       "_model_module_version": "1.5.0",
       "_model_name": "HTMLModel",
       "_view_count": null,
       "_view_module": "@jupyter-widgets/controls",
       "_view_module_version": "1.5.0",
       "_view_name": "HTMLView",
       "description": "",
       "description_tooltip": null,
       "layout": "IPY_MODEL_f081b19d9ea84b65b129cb33e8196342",
       "placeholder": "​",
       "style": "IPY_MODEL_b420df61d4a94433ab3ba631211b4297",
       "value": "100%"
      }
     },
     "5db3329e8c254ad39d50d3014fee6ecc": {
      "model_module": "@jupyter-widgets/controls",
      "model_module_version": "1.5.0",
      "model_name": "HBoxModel",
      "state": {
       "_dom_classes": [],
       "_model_module": "@jupyter-widgets/controls",
       "_model_module_version": "1.5.0",
       "_model_name": "HBoxModel",
       "_view_count": null,
       "_view_module": "@jupyter-widgets/controls",
       "_view_module_version": "1.5.0",
       "_view_name": "HBoxView",
       "box_style": "",
       "children": [
        "IPY_MODEL_5b56981b4c7244638ab2e6ba93648739",
        "IPY_MODEL_0c0d93c830ba40d3b651e30c998685ae",
        "IPY_MODEL_94a066dde5bf4e6f87421a01a2587fa7"
       ],
       "layout": "IPY_MODEL_16d7b4a2283543e387fe615cf5998c7a"
      }
     },
     "6562c02b19414bc682cc7dd9a05e4b2e": {
      "model_module": "@jupyter-widgets/controls",
      "model_module_version": "1.5.0",
      "model_name": "HBoxModel",
      "state": {
       "_dom_classes": [],
       "_model_module": "@jupyter-widgets/controls",
       "_model_module_version": "1.5.0",
       "_model_name": "HBoxModel",
       "_view_count": null,
       "_view_module": "@jupyter-widgets/controls",
       "_view_module_version": "1.5.0",
       "_view_name": "HBoxView",
       "box_style": "",
       "children": [
        "IPY_MODEL_e0aa04d5decb4f7286b1b303f520b102",
        "IPY_MODEL_1b6af0b29d2c4f3ba7f2894749325d00",
        "IPY_MODEL_f38136b17e754f178a8ea8e5ee9ea19c"
       ],
       "layout": "IPY_MODEL_84b88136bb5545ecba9bf04bbbce05af"
      }
     },
     "682ab30a4b0a48e8997586caeb7e7d22": {
      "model_module": "@jupyter-widgets/base",
      "model_module_version": "1.2.0",
      "model_name": "LayoutModel",
      "state": {
       "_model_module": "@jupyter-widgets/base",
       "_model_module_version": "1.2.0",
       "_model_name": "LayoutModel",
       "_view_count": null,
       "_view_module": "@jupyter-widgets/base",
       "_view_module_version": "1.2.0",
       "_view_name": "LayoutView",
       "align_content": null,
       "align_items": null,
       "align_self": null,
       "border": null,
       "bottom": null,
       "display": null,
       "flex": null,
       "flex_flow": null,
       "grid_area": null,
       "grid_auto_columns": null,
       "grid_auto_flow": null,
       "grid_auto_rows": null,
       "grid_column": null,
       "grid_gap": null,
       "grid_row": null,
       "grid_template_areas": null,
       "grid_template_columns": null,
       "grid_template_rows": null,
       "height": null,
       "justify_content": null,
       "justify_items": null,
       "left": null,
       "margin": null,
       "max_height": null,
       "max_width": null,
       "min_height": null,
       "min_width": null,
       "object_fit": null,
       "object_position": null,
       "order": null,
       "overflow": null,
       "overflow_x": null,
       "overflow_y": null,
       "padding": null,
       "right": null,
       "top": null,
       "visibility": null,
       "width": null
      }
     },
     "69849f86d6174641bda83fa615178e23": {
      "model_module": "@jupyter-widgets/controls",
      "model_module_version": "1.5.0",
      "model_name": "FloatProgressModel",
      "state": {
       "_dom_classes": [],
       "_model_module": "@jupyter-widgets/controls",
       "_model_module_version": "1.5.0",
       "_model_name": "FloatProgressModel",
       "_view_count": null,
       "_view_module": "@jupyter-widgets/controls",
       "_view_module_version": "1.5.0",
       "_view_name": "ProgressView",
       "bar_style": "success",
       "description": "",
       "description_tooltip": null,
       "layout": "IPY_MODEL_ab95f9240868459aa09fb5d39c64814a",
       "max": 5216.0,
       "min": 0.0,
       "orientation": "horizontal",
       "style": "IPY_MODEL_9d6e0c15ed4e454da0c419012672c706",
       "value": 5216.0
      }
     },
     "6afee93bad1c4e8c839ee5f37319603c": {
      "model_module": "@jupyter-widgets/controls",
      "model_module_version": "1.5.0",
      "model_name": "HTMLModel",
      "state": {
       "_dom_classes": [],
       "_model_module": "@jupyter-widgets/controls",
       "_model_module_version": "1.5.0",
       "_model_name": "HTMLModel",
       "_view_count": null,
       "_view_module": "@jupyter-widgets/controls",
       "_view_module_version": "1.5.0",
       "_view_name": "HTMLView",
       "description": "",
       "description_tooltip": null,
       "layout": "IPY_MODEL_9de686a743a34af19df022dcfd831c28",
       "placeholder": "​",
       "style": "IPY_MODEL_0581237cee0a4c8bb5763a67cc25cf24",
       "value": " 5216/5216 [00:48&lt;00:00, 56.15it/s]"
      }
     },
     "777817dbc39540f88c60dea2993108bd": {
      "model_module": "@jupyter-widgets/base",
      "model_module_version": "1.2.0",
      "model_name": "LayoutModel",
      "state": {
       "_model_module": "@jupyter-widgets/base",
       "_model_module_version": "1.2.0",
       "_model_name": "LayoutModel",
       "_view_count": null,
       "_view_module": "@jupyter-widgets/base",
       "_view_module_version": "1.2.0",
       "_view_name": "LayoutView",
       "align_content": null,
       "align_items": null,
       "align_self": null,
       "border": null,
       "bottom": null,
       "display": null,
       "flex": null,
       "flex_flow": null,
       "grid_area": null,
       "grid_auto_columns": null,
       "grid_auto_flow": null,
       "grid_auto_rows": null,
       "grid_column": null,
       "grid_gap": null,
       "grid_row": null,
       "grid_template_areas": null,
       "grid_template_columns": null,
       "grid_template_rows": null,
       "height": null,
       "justify_content": null,
       "justify_items": null,
       "left": null,
       "margin": null,
       "max_height": null,
       "max_width": null,
       "min_height": null,
       "min_width": null,
       "object_fit": null,
       "object_position": null,
       "order": null,
       "overflow": null,
       "overflow_x": null,
       "overflow_y": null,
       "padding": null,
       "right": null,
       "top": null,
       "visibility": null,
       "width": null
      }
     },
     "83a00f061d4c402db48759e130a119b6": {
      "model_module": "@jupyter-widgets/base",
      "model_module_version": "1.2.0",
      "model_name": "LayoutModel",
      "state": {
       "_model_module": "@jupyter-widgets/base",
       "_model_module_version": "1.2.0",
       "_model_name": "LayoutModel",
       "_view_count": null,
       "_view_module": "@jupyter-widgets/base",
       "_view_module_version": "1.2.0",
       "_view_name": "LayoutView",
       "align_content": null,
       "align_items": null,
       "align_self": null,
       "border": null,
       "bottom": null,
       "display": null,
       "flex": null,
       "flex_flow": null,
       "grid_area": null,
       "grid_auto_columns": null,
       "grid_auto_flow": null,
       "grid_auto_rows": null,
       "grid_column": null,
       "grid_gap": null,
       "grid_row": null,
       "grid_template_areas": null,
       "grid_template_columns": null,
       "grid_template_rows": null,
       "height": null,
       "justify_content": null,
       "justify_items": null,
       "left": null,
       "margin": null,
       "max_height": null,
       "max_width": null,
       "min_height": null,
       "min_width": null,
       "object_fit": null,
       "object_position": null,
       "order": null,
       "overflow": null,
       "overflow_x": null,
       "overflow_y": null,
       "padding": null,
       "right": null,
       "top": null,
       "visibility": null,
       "width": null
      }
     },
     "849a15bbc45d46fcbb4df2dea8fd4374": {
      "model_module": "@jupyter-widgets/controls",
      "model_module_version": "1.5.0",
      "model_name": "DescriptionStyleModel",
      "state": {
       "_model_module": "@jupyter-widgets/controls",
       "_model_module_version": "1.5.0",
       "_model_name": "DescriptionStyleModel",
       "_view_count": null,
       "_view_module": "@jupyter-widgets/base",
       "_view_module_version": "1.2.0",
       "_view_name": "StyleView",
       "description_width": ""
      }
     },
     "84b88136bb5545ecba9bf04bbbce05af": {
      "model_module": "@jupyter-widgets/base",
      "model_module_version": "1.2.0",
      "model_name": "LayoutModel",
      "state": {
       "_model_module": "@jupyter-widgets/base",
       "_model_module_version": "1.2.0",
       "_model_name": "LayoutModel",
       "_view_count": null,
       "_view_module": "@jupyter-widgets/base",
       "_view_module_version": "1.2.0",
       "_view_name": "LayoutView",
       "align_content": null,
       "align_items": null,
       "align_self": null,
       "border": null,
       "bottom": null,
       "display": null,
       "flex": null,
       "flex_flow": null,
       "grid_area": null,
       "grid_auto_columns": null,
       "grid_auto_flow": null,
       "grid_auto_rows": null,
       "grid_column": null,
       "grid_gap": null,
       "grid_row": null,
       "grid_template_areas": null,
       "grid_template_columns": null,
       "grid_template_rows": null,
       "height": null,
       "justify_content": null,
       "justify_items": null,
       "left": null,
       "margin": null,
       "max_height": null,
       "max_width": null,
       "min_height": null,
       "min_width": null,
       "object_fit": null,
       "object_position": null,
       "order": null,
       "overflow": null,
       "overflow_x": null,
       "overflow_y": null,
       "padding": null,
       "right": null,
       "top": null,
       "visibility": null,
       "width": null
      }
     },
     "94a066dde5bf4e6f87421a01a2587fa7": {
      "model_module": "@jupyter-widgets/controls",
      "model_module_version": "1.5.0",
      "model_name": "HTMLModel",
      "state": {
       "_dom_classes": [],
       "_model_module": "@jupyter-widgets/controls",
       "_model_module_version": "1.5.0",
       "_model_name": "HTMLModel",
       "_view_count": null,
       "_view_module": "@jupyter-widgets/controls",
       "_view_module_version": "1.5.0",
       "_view_name": "HTMLView",
       "description": "",
       "description_tooltip": null,
       "layout": "IPY_MODEL_c6e9f5ae857b43c5864a2e770a7b45a0",
       "placeholder": "​",
       "style": "IPY_MODEL_52c989af103e401aacb73c4272fd1308",
       "value": " 9.83M/9.83M [00:01&lt;00:00, 17.5MB/s]"
      }
     },
     "9d6e0c15ed4e454da0c419012672c706": {
      "model_module": "@jupyter-widgets/controls",
      "model_module_version": "1.5.0",
      "model_name": "ProgressStyleModel",
      "state": {
       "_model_module": "@jupyter-widgets/controls",
       "_model_module_version": "1.5.0",
       "_model_name": "ProgressStyleModel",
       "_view_count": null,
       "_view_module": "@jupyter-widgets/base",
       "_view_module_version": "1.2.0",
       "_view_name": "StyleView",
       "bar_color": null,
       "description_width": ""
      }
     },
     "9de686a743a34af19df022dcfd831c28": {
      "model_module": "@jupyter-widgets/base",
      "model_module_version": "1.2.0",
      "model_name": "LayoutModel",
      "state": {
       "_model_module": "@jupyter-widgets/base",
       "_model_module_version": "1.2.0",
       "_model_name": "LayoutModel",
       "_view_count": null,
       "_view_module": "@jupyter-widgets/base",
       "_view_module_version": "1.2.0",
       "_view_name": "LayoutView",
       "align_content": null,
       "align_items": null,
       "align_self": null,
       "border": null,
       "bottom": null,
       "display": null,
       "flex": null,
       "flex_flow": null,
       "grid_area": null,
       "grid_auto_columns": null,
       "grid_auto_flow": null,
       "grid_auto_rows": null,
       "grid_column": null,
       "grid_gap": null,
       "grid_row": null,
       "grid_template_areas": null,
       "grid_template_columns": null,
       "grid_template_rows": null,
       "height": null,
       "justify_content": null,
       "justify_items": null,
       "left": null,
       "margin": null,
       "max_height": null,
       "max_width": null,
       "min_height": null,
       "min_width": null,
       "object_fit": null,
       "object_position": null,
       "order": null,
       "overflow": null,
       "overflow_x": null,
       "overflow_y": null,
       "padding": null,
       "right": null,
       "top": null,
       "visibility": null,
       "width": null
      }
     },
     "ab95f9240868459aa09fb5d39c64814a": {
      "model_module": "@jupyter-widgets/base",
      "model_module_version": "1.2.0",
      "model_name": "LayoutModel",
      "state": {
       "_model_module": "@jupyter-widgets/base",
       "_model_module_version": "1.2.0",
       "_model_name": "LayoutModel",
       "_view_count": null,
       "_view_module": "@jupyter-widgets/base",
       "_view_module_version": "1.2.0",
       "_view_name": "LayoutView",
       "align_content": null,
       "align_items": null,
       "align_self": null,
       "border": null,
       "bottom": null,
       "display": null,
       "flex": null,
       "flex_flow": null,
       "grid_area": null,
       "grid_auto_columns": null,
       "grid_auto_flow": null,
       "grid_auto_rows": null,
       "grid_column": null,
       "grid_gap": null,
       "grid_row": null,
       "grid_template_areas": null,
       "grid_template_columns": null,
       "grid_template_rows": null,
       "height": null,
       "justify_content": null,
       "justify_items": null,
       "left": null,
       "margin": null,
       "max_height": null,
       "max_width": null,
       "min_height": null,
       "min_width": null,
       "object_fit": null,
       "object_position": null,
       "order": null,
       "overflow": null,
       "overflow_x": null,
       "overflow_y": null,
       "padding": null,
       "right": null,
       "top": null,
       "visibility": null,
       "width": null
      }
     },
     "b420df61d4a94433ab3ba631211b4297": {
      "model_module": "@jupyter-widgets/controls",
      "model_module_version": "1.5.0",
      "model_name": "DescriptionStyleModel",
      "state": {
       "_model_module": "@jupyter-widgets/controls",
       "_model_module_version": "1.5.0",
       "_model_name": "DescriptionStyleModel",
       "_view_count": null,
       "_view_module": "@jupyter-widgets/base",
       "_view_module_version": "1.2.0",
       "_view_name": "StyleView",
       "description_width": ""
      }
     },
     "c6e9f5ae857b43c5864a2e770a7b45a0": {
      "model_module": "@jupyter-widgets/base",
      "model_module_version": "1.2.0",
      "model_name": "LayoutModel",
      "state": {
       "_model_module": "@jupyter-widgets/base",
       "_model_module_version": "1.2.0",
       "_model_name": "LayoutModel",
       "_view_count": null,
       "_view_module": "@jupyter-widgets/base",
       "_view_module_version": "1.2.0",
       "_view_name": "LayoutView",
       "align_content": null,
       "align_items": null,
       "align_self": null,
       "border": null,
       "bottom": null,
       "display": null,
       "flex": null,
       "flex_flow": null,
       "grid_area": null,
       "grid_auto_columns": null,
       "grid_auto_flow": null,
       "grid_auto_rows": null,
       "grid_column": null,
       "grid_gap": null,
       "grid_row": null,
       "grid_template_areas": null,
       "grid_template_columns": null,
       "grid_template_rows": null,
       "height": null,
       "justify_content": null,
       "justify_items": null,
       "left": null,
       "margin": null,
       "max_height": null,
       "max_width": null,
       "min_height": null,
       "min_width": null,
       "object_fit": null,
       "object_position": null,
       "order": null,
       "overflow": null,
       "overflow_x": null,
       "overflow_y": null,
       "padding": null,
       "right": null,
       "top": null,
       "visibility": null,
       "width": null
      }
     },
     "ca71f684c01242cdb9762c51f089ddb3": {
      "model_module": "@jupyter-widgets/controls",
      "model_module_version": "1.5.0",
      "model_name": "ProgressStyleModel",
      "state": {
       "_model_module": "@jupyter-widgets/controls",
       "_model_module_version": "1.5.0",
       "_model_name": "ProgressStyleModel",
       "_view_count": null,
       "_view_module": "@jupyter-widgets/base",
       "_view_module_version": "1.2.0",
       "_view_name": "StyleView",
       "bar_color": null,
       "description_width": ""
      }
     },
     "d1c238fc9d54427484e964283bbc27ae": {
      "model_module": "@jupyter-widgets/controls",
      "model_module_version": "1.5.0",
      "model_name": "HBoxModel",
      "state": {
       "_dom_classes": [],
       "_model_module": "@jupyter-widgets/controls",
       "_model_module_version": "1.5.0",
       "_model_name": "HBoxModel",
       "_view_count": null,
       "_view_module": "@jupyter-widgets/controls",
       "_view_module_version": "1.5.0",
       "_view_name": "HBoxView",
       "box_style": "",
       "children": [
        "IPY_MODEL_12c1b73c1bb948a18b897864bb3342dc",
        "IPY_MODEL_69849f86d6174641bda83fa615178e23",
        "IPY_MODEL_6afee93bad1c4e8c839ee5f37319603c"
       ],
       "layout": "IPY_MODEL_42b3b1c6e32d49c5aa2c3dacae5e3c07"
      }
     },
     "d419a3467eae4c228c33f960066e112c": {
      "model_module": "@jupyter-widgets/base",
      "model_module_version": "1.2.0",
      "model_name": "LayoutModel",
      "state": {
       "_model_module": "@jupyter-widgets/base",
       "_model_module_version": "1.2.0",
       "_model_name": "LayoutModel",
       "_view_count": null,
       "_view_module": "@jupyter-widgets/base",
       "_view_module_version": "1.2.0",
       "_view_name": "LayoutView",
       "align_content": null,
       "align_items": null,
       "align_self": null,
       "border": null,
       "bottom": null,
       "display": null,
       "flex": null,
       "flex_flow": null,
       "grid_area": null,
       "grid_auto_columns": null,
       "grid_auto_flow": null,
       "grid_auto_rows": null,
       "grid_column": null,
       "grid_gap": null,
       "grid_row": null,
       "grid_template_areas": null,
       "grid_template_columns": null,
       "grid_template_rows": null,
       "height": null,
       "justify_content": null,
       "justify_items": null,
       "left": null,
       "margin": null,
       "max_height": null,
       "max_width": null,
       "min_height": null,
       "min_width": null,
       "object_fit": null,
       "object_position": null,
       "order": null,
       "overflow": null,
       "overflow_x": null,
       "overflow_y": null,
       "padding": null,
       "right": null,
       "top": null,
       "visibility": null,
       "width": null
      }
     },
     "d51069cd01bb4056b353280d27eb8e44": {
      "model_module": "@jupyter-widgets/controls",
      "model_module_version": "1.5.0",
      "model_name": "ProgressStyleModel",
      "state": {
       "_model_module": "@jupyter-widgets/controls",
       "_model_module_version": "1.5.0",
       "_model_name": "ProgressStyleModel",
       "_view_count": null,
       "_view_module": "@jupyter-widgets/base",
       "_view_module_version": "1.2.0",
       "_view_name": "StyleView",
       "bar_color": null,
       "description_width": ""
      }
     },
     "e0aa04d5decb4f7286b1b303f520b102": {
      "model_module": "@jupyter-widgets/controls",
      "model_module_version": "1.5.0",
      "model_name": "HTMLModel",
      "state": {
       "_dom_classes": [],
       "_model_module": "@jupyter-widgets/controls",
       "_model_module_version": "1.5.0",
       "_model_name": "HTMLModel",
       "_view_count": null,
       "_view_module": "@jupyter-widgets/controls",
       "_view_module_version": "1.5.0",
       "_view_name": "HTMLView",
       "description": "",
       "description_tooltip": null,
       "layout": "IPY_MODEL_777817dbc39540f88c60dea2993108bd",
       "placeholder": "​",
       "style": "IPY_MODEL_187e03f0cfef47fdbe23eda0f3d26d76",
       "value": "creating val set: 100%"
      }
     },
     "eebbab686b9c486db78cbd4e165bd989": {
      "model_module": "@jupyter-widgets/controls",
      "model_module_version": "1.5.0",
      "model_name": "HBoxModel",
      "state": {
       "_dom_classes": [],
       "_model_module": "@jupyter-widgets/controls",
       "_model_module_version": "1.5.0",
       "_model_name": "HBoxModel",
       "_view_count": null,
       "_view_module": "@jupyter-widgets/controls",
       "_view_module_version": "1.5.0",
       "_view_name": "HBoxView",
       "box_style": "",
       "children": [
        "IPY_MODEL_0a397e32c53148d5bef97570ec4bde2d",
        "IPY_MODEL_26aacc16c47a47cda4b5c0c23b488ec9",
        "IPY_MODEL_12deddfebf2346cdb5c4a0122cfe82bf"
       ],
       "layout": "IPY_MODEL_4bfaf99c2dbd458397af4a905eaee820"
      }
     },
     "f081b19d9ea84b65b129cb33e8196342": {
      "model_module": "@jupyter-widgets/base",
      "model_module_version": "1.2.0",
      "model_name": "LayoutModel",
      "state": {
       "_model_module": "@jupyter-widgets/base",
       "_model_module_version": "1.2.0",
       "_model_name": "LayoutModel",
       "_view_count": null,
       "_view_module": "@jupyter-widgets/base",
       "_view_module_version": "1.2.0",
       "_view_name": "LayoutView",
       "align_content": null,
       "align_items": null,
       "align_self": null,
       "border": null,
       "bottom": null,
       "display": null,
       "flex": null,
       "flex_flow": null,
       "grid_area": null,
       "grid_auto_columns": null,
       "grid_auto_flow": null,
       "grid_auto_rows": null,
       "grid_column": null,
       "grid_gap": null,
       "grid_row": null,
       "grid_template_areas": null,
       "grid_template_columns": null,
       "grid_template_rows": null,
       "height": null,
       "justify_content": null,
       "justify_items": null,
       "left": null,
       "margin": null,
       "max_height": null,
       "max_width": null,
       "min_height": null,
       "min_width": null,
       "object_fit": null,
       "object_position": null,
       "order": null,
       "overflow": null,
       "overflow_x": null,
       "overflow_y": null,
       "padding": null,
       "right": null,
       "top": null,
       "visibility": null,
       "width": null
      }
     },
     "f38136b17e754f178a8ea8e5ee9ea19c": {
      "model_module": "@jupyter-widgets/controls",
      "model_module_version": "1.5.0",
      "model_name": "HTMLModel",
      "state": {
       "_dom_classes": [],
       "_model_module": "@jupyter-widgets/controls",
       "_model_module_version": "1.5.0",
       "_model_name": "HTMLModel",
       "_view_count": null,
       "_view_module": "@jupyter-widgets/controls",
       "_view_module_version": "1.5.0",
       "_view_name": "HTMLView",
       "description": "",
       "description_tooltip": null,
       "layout": "IPY_MODEL_2afefdc860dd4e5fa35f1768ec087893",
       "placeholder": "​",
       "style": "IPY_MODEL_58836ad7534a40e3b3791e6299e07f32",
       "value": " 16/16 [00:00&lt;00:00, 46.31it/s]"
      }
     },
     "ff013b42708f4bad91a46ec9b44f447e": {
      "model_module": "@jupyter-widgets/controls",
      "model_module_version": "1.5.0",
      "model_name": "ProgressStyleModel",
      "state": {
       "_model_module": "@jupyter-widgets/controls",
       "_model_module_version": "1.5.0",
       "_model_name": "ProgressStyleModel",
       "_view_count": null,
       "_view_module": "@jupyter-widgets/base",
       "_view_module_version": "1.2.0",
       "_view_name": "StyleView",
       "bar_color": null,
       "description_width": ""
      }
     }
    },
    "version_major": 2,
    "version_minor": 0
   }
  }
 },
 "nbformat": 4,
 "nbformat_minor": 5
}
